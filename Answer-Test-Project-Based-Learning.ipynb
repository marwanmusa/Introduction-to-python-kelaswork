{
  "cells": [
    {
      "attachments": {},
      "cell_type": "markdown",
      "metadata": {},
      "source": [
        "# *Project Based Learning*"
      ]
    },
    {
      "attachments": {},
      "cell_type": "markdown",
      "metadata": {},
      "source": [
        "Halo `teman kelas`, untuk assessment kali ini teman diharapkan dapat mengimplementasikan pemahaman kalian dari materi-materi yang telah dijelaskan di *course* ini."
      ]
    },
    {
      "attachments": {},
      "cell_type": "markdown",
      "metadata": {},
      "source": [
        "## Hello World"
      ]
    },
    {
      "attachments": {},
      "cell_type": "markdown",
      "metadata": {},
      "source": [
        "\n",
        "Di section ini, gunakanlah fungsi *built-in* python `print` untuk mencetak beberapa kalimat dibawah ini:\n",
        "```python\n",
        "\"Hello World\"\n",
        "\"Belajar di Kelas.work sangat menyenangkan\"\n",
        "```"
      ]
    },
    {
      "cell_type": "code",
      "execution_count": 1,
      "metadata": {},
      "outputs": [
        {
          "name": "stdout",
          "output_type": "stream",
          "text": [
            "Hello World\n"
          ]
        }
      ],
      "source": [
        "print(\"Hello World\")"
      ]
    },
    {
      "cell_type": "code",
      "execution_count": 2,
      "metadata": {},
      "outputs": [
        {
          "name": "stdout",
          "output_type": "stream",
          "text": [
            "Belajar di Kelas.work sangat menyenangkan\n"
          ]
        }
      ],
      "source": [
        "print(\"Belajar di Kelas.work sangat menyenangkan\")"
      ]
    },
    {
      "attachments": {},
      "cell_type": "markdown",
      "metadata": {},
      "source": [
        "## Variabel, Operator Perbandingan dan Aritmatika"
      ]
    },
    {
      "attachments": {},
      "cell_type": "markdown",
      "metadata": {},
      "source": [
        "Buatlah sebuah `variabel` dengan value `\"Hello world\"`, lalu print `variabel` tersebut."
      ]
    },
    {
      "cell_type": "code",
      "execution_count": 3,
      "metadata": {},
      "outputs": [
        {
          "name": "stdout",
          "output_type": "stream",
          "text": [
            "Hello World\n"
          ]
        }
      ],
      "source": [
        "halo = \"Hello World\"\n",
        "print(halo)"
      ]
    },
    {
      "attachments": {},
      "cell_type": "markdown",
      "metadata": {},
      "source": [
        "- Buatlah sebuah variabel `namadepan` (isi nama depan teman sebagai value di variabel ini),\n",
        "- lalu buat variabel `namabelakang` (masukan nama belakang teman sebagai value di variabel ini)\n",
        "- lalu cetak `namadepan` + `namabelakang` menggunakan printah `print`"
      ]
    },
    {
      "cell_type": "code",
      "execution_count": 4,
      "metadata": {},
      "outputs": [],
      "source": [
        "namadepan = \"Marwan\"\n",
        "namabelakang = \" Musa\""
      ]
    },
    {
      "cell_type": "code",
      "execution_count": 5,
      "metadata": {},
      "outputs": [
        {
          "name": "stdout",
          "output_type": "stream",
          "text": [
            "Marwan Musa\n"
          ]
        }
      ],
      "source": [
        "# isilah dua variabel kedalam print ini\n",
        "print(namadepan + namabelakang)"
      ]
    },
    {
      "attachments": {},
      "cell_type": "markdown",
      "metadata": {},
      "source": [
        "Pilihlah dua angka (bebas), lalu masukkan ke variabel `angka1` dan `angka2` masing-masing, dengan `angka1` lebih besar dari `angka2`.\n",
        "\n",
        "Lalu gunakan operator perbandingan untuk mengecek value kedua angka tersebut."
      ]
    },
    {
      "cell_type": "code",
      "execution_count": 15,
      "metadata": {},
      "outputs": [],
      "source": [
        "angka1 = 23\n",
        "angka2 = 15"
      ]
    },
    {
      "cell_type": "code",
      "execution_count": 16,
      "metadata": {},
      "outputs": [
        {
          "data": {
            "text/plain": [
              "True"
            ]
          },
          "execution_count": 16,
          "metadata": {},
          "output_type": "execute_result"
        }
      ],
      "source": [
        "# gunakan operator lebih dari\n",
        "# jika angka1 dan angka2 sesuai, maka outputnya adalah True\n",
        "\n",
        "angka1 > angka2"
      ]
    },
    {
      "cell_type": "code",
      "execution_count": 17,
      "metadata": {},
      "outputs": [
        {
          "data": {
            "text/plain": [
              "False"
            ]
          },
          "execution_count": 17,
          "metadata": {},
          "output_type": "execute_result"
        }
      ],
      "source": [
        "# gunakan operator kecil dari\n",
        "# jika angka1 dan angka2 sesuai, maka outputnya adalah False\n",
        "\n",
        "angka1 < angka2"
      ]
    },
    {
      "cell_type": "code",
      "execution_count": 9,
      "metadata": {},
      "outputs": [
        {
          "data": {
            "text/plain": [
              "True"
            ]
          },
          "execution_count": 9,
          "metadata": {},
          "output_type": "execute_result"
        }
      ],
      "source": [
        "# gunakan operator tidak sama dengan\n",
        "# jika angka1 dan b sesuai, maka outputnya adalah True\n",
        "\n",
        "angka1 != angka2"
      ]
    },
    {
      "cell_type": "code",
      "execution_count": 10,
      "metadata": {},
      "outputs": [
        {
          "data": {
            "text/plain": [
              "False"
            ]
          },
          "execution_count": 10,
          "metadata": {},
          "output_type": "execute_result"
        }
      ],
      "source": [
        "# gunakan operator sama dengan\n",
        "# jika angka1 dan b sesuai, maka outputnya adalah False\n",
        "\n",
        "angka1 == angka2"
      ]
    },
    {
      "attachments": {},
      "cell_type": "markdown",
      "metadata": {},
      "source": [
        "Lakukan operasi aritmatika dengan kedua variabel `angka1` dan `angka2`"
      ]
    },
    {
      "cell_type": "code",
      "execution_count": 18,
      "metadata": {},
      "outputs": [
        {
          "name": "stdout",
          "output_type": "stream",
          "text": [
            "38\n"
          ]
        }
      ],
      "source": [
        "# penjumlahan\n",
        "print(angka1 + angka2)"
      ]
    },
    {
      "cell_type": "code",
      "execution_count": 19,
      "metadata": {},
      "outputs": [
        {
          "name": "stdout",
          "output_type": "stream",
          "text": [
            "8\n"
          ]
        }
      ],
      "source": [
        "# pengurangan\n",
        "print(angka1 - angka2)"
      ]
    },
    {
      "cell_type": "code",
      "execution_count": 20,
      "metadata": {},
      "outputs": [
        {
          "name": "stdout",
          "output_type": "stream",
          "text": [
            "345\n"
          ]
        }
      ],
      "source": [
        "# perkalian\n",
        "print(angka1 * angka2)"
      ]
    },
    {
      "cell_type": "code",
      "execution_count": 21,
      "metadata": {},
      "outputs": [
        {
          "name": "stdout",
          "output_type": "stream",
          "text": [
            "266635235464391245607\n"
          ]
        }
      ],
      "source": [
        "# pangkat\n",
        "print(angka1 ** angka2)"
      ]
    },
    {
      "cell_type": "code",
      "execution_count": 22,
      "metadata": {},
      "outputs": [
        {
          "name": "stdout",
          "output_type": "stream",
          "text": [
            "8\n"
          ]
        }
      ],
      "source": [
        "# sisa bagi\n",
        "print(angka1 % angka2)"
      ]
    },
    {
      "attachments": {},
      "cell_type": "markdown",
      "metadata": {},
      "source": [
        "## Seleksi Kondisi"
      ]
    },
    {
      "attachments": {},
      "cell_type": "markdown",
      "metadata": {},
      "source": [
        "Masih dengan menggunakan variabel `angka1` dan `angka2` di atas,\n",
        "gunakan `statement if-else` untuk print kalimat `\"angka1 lebih besar dari angka2\"` jika `angka1` besar dari `angka2` dan `\"Done\"` jika `angka1` kecil dari `angka2`."
      ]
    },
    {
      "cell_type": "code",
      "execution_count": 23,
      "metadata": {},
      "outputs": [
        {
          "name": "stdout",
          "output_type": "stream",
          "text": [
            "Done\n"
          ]
        }
      ],
      "source": [
        "angka1 = 45\n",
        "angka2 = 50\n",
        "\n",
        "if angka1 > angka2:\n",
        "    print(f\"{angka1} lebih besar dari {angka2}\")\n",
        "else:\n",
        "    print(\"Done\")"
      ]
    },
    {
      "attachments": {},
      "cell_type": "markdown",
      "metadata": {},
      "source": [
        "gunakan `nested-if (if di dalam if)` untuk print variabel `angka` (yang valuenya suatu bilangan) jika `angka` kecil dari `100` dan dan habis dibagi `3`."
      ]
    },
    {
      "cell_type": "code",
      "execution_count": 25,
      "metadata": {},
      "outputs": [
        {
          "name": "stdout",
          "output_type": "stream",
          "text": [
            "33\n"
          ]
        }
      ],
      "source": [
        "# suatu angka habis dibagi 3 jika angka modulp 3 == 0\n",
        "\n",
        "angka = 33\n",
        "\n",
        "if angka < 100:\n",
        "    if angka % 3 == 0:\n",
        "        print(angka)"
      ]
    },
    {
      "attachments": {},
      "cell_type": "markdown",
      "metadata": {},
      "source": [
        "## Struktur Data"
      ]
    },
    {
      "attachments": {},
      "cell_type": "markdown",
      "metadata": {},
      "source": [
        "Buatlah sebuah list dengan nama `my_list`, lalu isilah `list` itu dengan bilangan ganjil dibawah `20`"
      ]
    },
    {
      "cell_type": "code",
      "execution_count": 26,
      "metadata": {},
      "outputs": [],
      "source": [
        "my_list = [1, 3, 5, 7, 9, 11, 13, 15, 17, 19]"
      ]
    },
    {
      "attachments": {},
      "cell_type": "markdown",
      "metadata": {},
      "source": [
        "tambahkan elemen `21` ke dalam `my_list` dengan menggunakan metode `append`"
      ]
    },
    {
      "cell_type": "code",
      "execution_count": 27,
      "metadata": {},
      "outputs": [],
      "source": [
        "my_list.append(21)"
      ]
    },
    {
      "attachments": {},
      "cell_type": "markdown",
      "metadata": {},
      "source": [
        "Lalu periksa apakah `21` ada dalam `my_list`"
      ]
    },
    {
      "cell_type": "code",
      "execution_count": 28,
      "metadata": {},
      "outputs": [
        {
          "data": {
            "text/plain": [
              "True"
            ]
          },
          "execution_count": 28,
          "metadata": {},
          "output_type": "execute_result"
        }
      ],
      "source": [
        "# gunakan operator \"in\" untuk pengecekan keanggotaan\n",
        "# jika 21 adalah elemen my_list maka hasil program ini True\n",
        "\n",
        "21 in my_list"
      ]
    },
    {
      "attachments": {},
      "cell_type": "markdown",
      "metadata": {},
      "source": [
        "Buatlah sebuah `dictionary` `my_dict` yang `keys` nya adalah negara, ibukota, wisata_terkenal."
      ]
    },
    {
      "cell_type": "code",
      "execution_count": 29,
      "metadata": {},
      "outputs": [],
      "source": [
        "my_dict = {\"Negara\" : \"Indonesia\", \"ibukota\" : \"Jakarta\", \"wisata_terkenal\" : \"Bali\"}"
      ]
    },
    {
      "attachments": {},
      "cell_type": "markdown",
      "metadata": {},
      "source": [
        "lalu akses Negara yang ada dalam `my_dict`"
      ]
    },
    {
      "cell_type": "code",
      "execution_count": 30,
      "metadata": {},
      "outputs": [
        {
          "data": {
            "text/plain": [
              "'Indonesia'"
            ]
          },
          "execution_count": 30,
          "metadata": {},
          "output_type": "execute_result"
        }
      ],
      "source": [
        "my_dict[\"Negara\"]"
      ]
    },
    {
      "attachments": {},
      "cell_type": "markdown",
      "metadata": {},
      "source": [
        "akses `\"ibukota\"`"
      ]
    },
    {
      "cell_type": "code",
      "execution_count": 31,
      "metadata": {},
      "outputs": [
        {
          "data": {
            "text/plain": [
              "'Jakarta'"
            ]
          },
          "execution_count": 31,
          "metadata": {},
          "output_type": "execute_result"
        }
      ],
      "source": [
        "my_dict[\"ibukota\"]"
      ]
    },
    {
      "attachments": {},
      "cell_type": "markdown",
      "metadata": {},
      "source": [
        "akses `\"wisata_terkenal\"`"
      ]
    },
    {
      "cell_type": "code",
      "execution_count": 33,
      "metadata": {},
      "outputs": [
        {
          "data": {
            "text/plain": [
              "'Bali'"
            ]
          },
          "execution_count": 33,
          "metadata": {},
          "output_type": "execute_result"
        }
      ],
      "source": [
        "my_dict[\"wisata_terkenal\"]"
      ]
    },
    {
      "attachments": {},
      "cell_type": "markdown",
      "metadata": {},
      "source": [
        "untuk melihat semua *keys* yang ada di `my_dict`, kita bisa menggunakan method `keys`."
      ]
    },
    {
      "cell_type": "code",
      "execution_count": 34,
      "metadata": {},
      "outputs": [
        {
          "data": {
            "text/plain": [
              "dict_keys(['Negara', 'ibukota', 'wisata_terkenal'])"
            ]
          },
          "execution_count": 34,
          "metadata": {},
          "output_type": "execute_result"
        }
      ],
      "source": [
        "my_dict.keys()"
      ]
    },
    {
      "attachments": {},
      "cell_type": "markdown",
      "metadata": {},
      "source": [
        "Teman kelas bisa menggunakan method `values` untuk melihat semua `values` di `my_dict`."
      ]
    },
    {
      "cell_type": "code",
      "execution_count": 35,
      "metadata": {},
      "outputs": [
        {
          "data": {
            "text/plain": [
              "dict_values(['Indonesia', 'Jakarta', 'Bali'])"
            ]
          },
          "execution_count": 35,
          "metadata": {},
          "output_type": "execute_result"
        }
      ],
      "source": [
        "my_dict.values()"
      ]
    },
    {
      "attachments": {},
      "cell_type": "markdown",
      "metadata": {},
      "source": [
        "## Perulangan"
      ]
    },
    {
      "attachments": {},
      "cell_type": "markdown",
      "metadata": {},
      "source": [
        "Buatlah perulangan *while* untuk mencetak bilangan `1` sampai `10`"
      ]
    },
    {
      "cell_type": "code",
      "execution_count": 38,
      "metadata": {},
      "outputs": [
        {
          "name": "stdout",
          "output_type": "stream",
          "text": [
            "angka : 0\n",
            "angka : 1\n",
            "angka : 2\n",
            "angka : 3\n",
            "angka : 4\n",
            "angka : 5\n",
            "angka : 6\n",
            "angka : 7\n",
            "angka : 8\n",
            "angka : 9\n",
            "angka : 10\n",
            "selesai\n"
          ]
        }
      ],
      "source": [
        "angka = 0 # variabel acuan untuk increment - nilanya bertambah 1 setiap perulangan\n",
        "while (angka < 11):\n",
        "    print(\"angka :\", angka)\n",
        "    angka = angka + 1\n",
        "print(\"selesai\")"
      ]
    },
    {
      "attachments": {},
      "cell_type": "markdown",
      "metadata": {},
      "source": [
        "Misalkan kita punya list `kota` yang berisi nama-nama kota. Buatlah perulangan `for` yang menghasilkan output setiap nama kota yang ada di list `kota`."
      ]
    },
    {
      "cell_type": "code",
      "execution_count": 39,
      "metadata": {},
      "outputs": [
        {
          "name": "stdout",
          "output_type": "stream",
          "text": [
            "jakarta\n",
            "depok\n",
            "bandung\n",
            "jepara\n"
          ]
        }
      ],
      "source": [
        "# misal isi list kota seperti ini\n",
        "kota = ['jakarta', 'depok', 'bandung', 'jepara']\n",
        "\n",
        "# perulangan for\n",
        "for nama_kota in kota:\n",
        "    print(nama_kota)"
      ]
    },
    {
      "attachments": {},
      "cell_type": "markdown",
      "metadata": {},
      "source": [
        "## Objek dan Class"
      ]
    },
    {
      "attachments": {},
      "cell_type": "markdown",
      "metadata": {},
      "source": [
        "Buatlah `class Mahasiswa` yang variabel *instance* nya `nama`, `umur`, `kampus`, dan `jurusan`.\n",
        "\n",
        "Tambahkan method `\"showdetail\"` untuk menampilkan `nama` dan `umur`, dan method `\"cek_umur\"` untuk cek apakah `umur` lebih dari `18` tahun (termasuk dewasa), jika tidak masuk usia remaja."
      ]
    },
    {
      "cell_type": "code",
      "execution_count": 42,
      "metadata": {},
      "outputs": [],
      "source": [
        "class Mahasiswa:\n",
        "    def __init__(self, nama, umur, kampus, jurusan):\n",
        "        self.nama = nama\n",
        "        self.umur = umur\n",
        "        self.kampus = kampus\n",
        "        self.jurusan = jurusan\n",
        "\n",
        "    def showdetail(self):\n",
        "        print(\"Nama : \", self.nama, \", Umur: \", self.umur)\n",
        "\n",
        "    def cek_umur(self):\n",
        "        if self.umur >= 18:\n",
        "            print(\"Dewasa\")\n",
        "        else:\n",
        "            print(\"Remaja\")"
      ]
    },
    {
      "attachments": {},
      "cell_type": "markdown",
      "metadata": {},
      "source": [
        "Buatlah objek `mhs_baru` dengan<br>\n",
        "nama = \"[Nama Teman]\"<br>\n",
        "umur = \"[Umur Teman]\"<br>\n",
        "begitu juga dengan kampus dan jurusan.\n"
      ]
    },
    {
      "cell_type": "code",
      "execution_count": 43,
      "metadata": {},
      "outputs": [],
      "source": [
        "mhs_baru = Mahasiswa(\"Angga\", 27, \"IPB\", \"Matematika\")"
      ]
    },
    {
      "attachments": {},
      "cell_type": "markdown",
      "metadata": {},
      "source": [
        "lalu akses atribut dan method dari objek `mhs_baru`."
      ]
    },
    {
      "cell_type": "code",
      "execution_count": 45,
      "metadata": {},
      "outputs": [
        {
          "name": "stdout",
          "output_type": "stream",
          "text": [
            "Angga\n",
            "27\n",
            "IPB\n",
            "Matematika\n"
          ]
        }
      ],
      "source": [
        "# Akses atribut\n",
        "print(mhs_baru.nama)        # akses atribut nama\n",
        "print(mhs_baru.umur)        # akses atribut umur\n",
        "print(mhs_baru.kampus)      # akses atribut kampus\n",
        "print(mhs_baru.jurusan)     # akses atribut jurusan"
      ]
    },
    {
      "cell_type": "code",
      "execution_count": 46,
      "metadata": {},
      "outputs": [
        {
          "name": "stdout",
          "output_type": "stream",
          "text": [
            "Nama :  Angga , Umur:  27\n",
            "Dewasa\n"
          ]
        }
      ],
      "source": [
        "# akses method\n",
        "mhs_baru.showdetail()    # akses method showdetail()\n",
        "mhs_baru.cek_umur()              # akses method cek_umur()"
      ]
    },
    {
      "attachments": {},
      "cell_type": "markdown",
      "metadata": {},
      "source": [
        "## Fungsi\n",
        "\n",
        "Buatlah fungsi `luas_persegi` untuk menghitung luas suatu persegi dengan input `sisi`"
      ]
    },
    {
      "cell_type": "code",
      "execution_count": 47,
      "metadata": {},
      "outputs": [],
      "source": [
        "def luas_persegi(sisi):\n",
        "    luas = sisi * sisi\n",
        "    return luas"
      ]
    },
    {
      "attachments": {},
      "cell_type": "markdown",
      "metadata": {},
      "source": [
        "Buatlah variabel `persegi1` yang value nya adalah fungsi `luas_persegi` dengan argumen `12`. lalu print variabel `persegi1`"
      ]
    },
    {
      "cell_type": "code",
      "execution_count": 48,
      "metadata": {},
      "outputs": [
        {
          "name": "stdout",
          "output_type": "stream",
          "text": [
            "144\n"
          ]
        }
      ],
      "source": [
        "persegi1 = luas_persegi(12)\n",
        "\n",
        "print(persegi1)"
      ]
    },
    {
      "attachments": {},
      "cell_type": "markdown",
      "metadata": {},
      "source": [
        "Buatlah fungsi untuk menghitung panjang dari suatu `list`\n",
        "- Nama fungsi `panjang_list`\n",
        "- Input nya adalah suatu list"
      ]
    },
    {
      "cell_type": "code",
      "execution_count": 50,
      "metadata": {},
      "outputs": [],
      "source": [
        "def panjang_list(example):\n",
        "    # untuk menghitung panjang suatu list\n",
        "    # kita menggunakan method len(list)\n",
        "    length = len(example)\n",
        "    return length"
      ]
    },
    {
      "attachments": {},
      "cell_type": "markdown",
      "metadata": {},
      "source": [
        "lalu masukkan list `A` ke fungsi `panjang_list`"
      ]
    },
    {
      "cell_type": "code",
      "execution_count": 51,
      "metadata": {},
      "outputs": [
        {
          "data": {
            "text/plain": [
              "5"
            ]
          },
          "execution_count": 51,
          "metadata": {},
          "output_type": "execute_result"
        }
      ],
      "source": [
        "A = [1, 2, 4, 7, 9]\n",
        "\n",
        "panjang_list(A)"
      ]
    },
    {
      "attachments": {},
      "cell_type": "markdown",
      "metadata": {
        "id": "0b1rJgb4fZCJ"
      },
      "source": [
        "## Python untuk Data Analysis"
      ]
    },
    {
      "attachments": {},
      "cell_type": "markdown",
      "metadata": {},
      "source": [
        "Di section ini kita akan melakukan analisis terhadap dataset jenis-jenis mobil dan klasifikasinya"
      ]
    },
    {
      "attachments": {},
      "cell_type": "markdown",
      "metadata": {
        "id": "ZntxzxpwfgAb"
      },
      "source": [
        "## Import Libraries"
      ]
    },
    {
      "attachments": {},
      "cell_type": "markdown",
      "metadata": {},
      "source": [
        "Yang pertama kita lakukan adalah import semua library yang dibutuhkan"
      ]
    },
    {
      "cell_type": "code",
      "execution_count": 52,
      "metadata": {
        "id": "EznMxjvFfUBX"
      },
      "outputs": [],
      "source": [
        "import pandas as pd                         #dataframe manipulation\n",
        "import numpy as np                          #scientific computing\n",
        "import seaborn as sns                       #visualization\n",
        "import matplotlib.pyplot as plt             #visualization\n",
        "%matplotlib inline\n",
        "sns.set(color_codes=True)\n",
        "\n",
        "import warnings\n",
        "warnings.filterwarnings('ignore')"
      ]
    },
    {
      "attachments": {},
      "cell_type": "markdown",
      "metadata": {
        "id": "CUX8mTPBfsLY"
      },
      "source": [
        "## Importing Dataset"
      ]
    },
    {
      "attachments": {},
      "cell_type": "markdown",
      "metadata": {},
      "source": [
        "Import dataset dari source url : https://raw.githubusercontent.com/marwanmusa/dataset/main/data.csv"
      ]
    },
    {
      "cell_type": "code",
      "execution_count": 53,
      "metadata": {
        "colab": {
          "base_uri": "https://localhost:8080/",
          "height": 808
        },
        "id": "ckoFI2Hqfqb0",
        "outputId": "bd5df78a-8271-4fb6-c1c3-0c8196be9450"
      },
      "outputs": [
        {
          "data": {
            "text/html": [
              "<div>\n",
              "<style scoped>\n",
              "    .dataframe tbody tr th:only-of-type {\n",
              "        vertical-align: middle;\n",
              "    }\n",
              "\n",
              "    .dataframe tbody tr th {\n",
              "        vertical-align: top;\n",
              "    }\n",
              "\n",
              "    .dataframe thead th {\n",
              "        text-align: right;\n",
              "    }\n",
              "</style>\n",
              "<table border=\"1\" class=\"dataframe\">\n",
              "  <thead>\n",
              "    <tr style=\"text-align: right;\">\n",
              "      <th></th>\n",
              "      <th>Make</th>\n",
              "      <th>Model</th>\n",
              "      <th>Year</th>\n",
              "      <th>Engine Fuel Type</th>\n",
              "      <th>Engine HP</th>\n",
              "      <th>Engine Cylinders</th>\n",
              "      <th>Transmission Type</th>\n",
              "      <th>Driven_Wheels</th>\n",
              "      <th>Number of Doors</th>\n",
              "      <th>Market Category</th>\n",
              "      <th>Vehicle Size</th>\n",
              "      <th>Vehicle Style</th>\n",
              "      <th>highway MPG</th>\n",
              "      <th>city mpg</th>\n",
              "      <th>Popularity</th>\n",
              "      <th>MSRP</th>\n",
              "    </tr>\n",
              "  </thead>\n",
              "  <tbody>\n",
              "    <tr>\n",
              "      <th>0</th>\n",
              "      <td>BMW</td>\n",
              "      <td>1 Series M</td>\n",
              "      <td>2011</td>\n",
              "      <td>premium unleaded (required)</td>\n",
              "      <td>335.0</td>\n",
              "      <td>6.0</td>\n",
              "      <td>MANUAL</td>\n",
              "      <td>rear wheel drive</td>\n",
              "      <td>2.0</td>\n",
              "      <td>Factory Tuner,Luxury,High-Performance</td>\n",
              "      <td>Compact</td>\n",
              "      <td>Coupe</td>\n",
              "      <td>26</td>\n",
              "      <td>19</td>\n",
              "      <td>3916</td>\n",
              "      <td>46135</td>\n",
              "    </tr>\n",
              "    <tr>\n",
              "      <th>1</th>\n",
              "      <td>BMW</td>\n",
              "      <td>1 Series</td>\n",
              "      <td>2011</td>\n",
              "      <td>premium unleaded (required)</td>\n",
              "      <td>300.0</td>\n",
              "      <td>6.0</td>\n",
              "      <td>MANUAL</td>\n",
              "      <td>rear wheel drive</td>\n",
              "      <td>2.0</td>\n",
              "      <td>Luxury,Performance</td>\n",
              "      <td>Compact</td>\n",
              "      <td>Convertible</td>\n",
              "      <td>28</td>\n",
              "      <td>19</td>\n",
              "      <td>3916</td>\n",
              "      <td>40650</td>\n",
              "    </tr>\n",
              "    <tr>\n",
              "      <th>2</th>\n",
              "      <td>BMW</td>\n",
              "      <td>1 Series</td>\n",
              "      <td>2011</td>\n",
              "      <td>premium unleaded (required)</td>\n",
              "      <td>300.0</td>\n",
              "      <td>6.0</td>\n",
              "      <td>MANUAL</td>\n",
              "      <td>rear wheel drive</td>\n",
              "      <td>2.0</td>\n",
              "      <td>Luxury,High-Performance</td>\n",
              "      <td>Compact</td>\n",
              "      <td>Coupe</td>\n",
              "      <td>28</td>\n",
              "      <td>20</td>\n",
              "      <td>3916</td>\n",
              "      <td>36350</td>\n",
              "    </tr>\n",
              "    <tr>\n",
              "      <th>3</th>\n",
              "      <td>BMW</td>\n",
              "      <td>1 Series</td>\n",
              "      <td>2011</td>\n",
              "      <td>premium unleaded (required)</td>\n",
              "      <td>230.0</td>\n",
              "      <td>6.0</td>\n",
              "      <td>MANUAL</td>\n",
              "      <td>rear wheel drive</td>\n",
              "      <td>2.0</td>\n",
              "      <td>Luxury,Performance</td>\n",
              "      <td>Compact</td>\n",
              "      <td>Coupe</td>\n",
              "      <td>28</td>\n",
              "      <td>18</td>\n",
              "      <td>3916</td>\n",
              "      <td>29450</td>\n",
              "    </tr>\n",
              "    <tr>\n",
              "      <th>4</th>\n",
              "      <td>BMW</td>\n",
              "      <td>1 Series</td>\n",
              "      <td>2011</td>\n",
              "      <td>premium unleaded (required)</td>\n",
              "      <td>230.0</td>\n",
              "      <td>6.0</td>\n",
              "      <td>MANUAL</td>\n",
              "      <td>rear wheel drive</td>\n",
              "      <td>2.0</td>\n",
              "      <td>Luxury</td>\n",
              "      <td>Compact</td>\n",
              "      <td>Convertible</td>\n",
              "      <td>28</td>\n",
              "      <td>18</td>\n",
              "      <td>3916</td>\n",
              "      <td>34500</td>\n",
              "    </tr>\n",
              "  </tbody>\n",
              "</table>\n",
              "</div>"
            ],
            "text/plain": [
              "  Make       Model  Year             Engine Fuel Type  Engine HP  \\\n",
              "0  BMW  1 Series M  2011  premium unleaded (required)      335.0   \n",
              "1  BMW    1 Series  2011  premium unleaded (required)      300.0   \n",
              "2  BMW    1 Series  2011  premium unleaded (required)      300.0   \n",
              "3  BMW    1 Series  2011  premium unleaded (required)      230.0   \n",
              "4  BMW    1 Series  2011  premium unleaded (required)      230.0   \n",
              "\n",
              "   Engine Cylinders Transmission Type     Driven_Wheels  Number of Doors  \\\n",
              "0               6.0            MANUAL  rear wheel drive              2.0   \n",
              "1               6.0            MANUAL  rear wheel drive              2.0   \n",
              "2               6.0            MANUAL  rear wheel drive              2.0   \n",
              "3               6.0            MANUAL  rear wheel drive              2.0   \n",
              "4               6.0            MANUAL  rear wheel drive              2.0   \n",
              "\n",
              "                         Market Category Vehicle Size Vehicle Style  \\\n",
              "0  Factory Tuner,Luxury,High-Performance      Compact         Coupe   \n",
              "1                     Luxury,Performance      Compact   Convertible   \n",
              "2                Luxury,High-Performance      Compact         Coupe   \n",
              "3                     Luxury,Performance      Compact         Coupe   \n",
              "4                                 Luxury      Compact   Convertible   \n",
              "\n",
              "   highway MPG  city mpg  Popularity   MSRP  \n",
              "0           26        19        3916  46135  \n",
              "1           28        19        3916  40650  \n",
              "2           28        20        3916  36350  \n",
              "3           28        18        3916  29450  \n",
              "4           28        18        3916  34500  "
            ]
          },
          "execution_count": 53,
          "metadata": {},
          "output_type": "execute_result"
        }
      ],
      "source": [
        "url = \"https://raw.githubusercontent.com/marwanmusa/dataset/main/data.csv\"\n",
        "\n",
        "# gunakan method read.csv dari pandas  untuk membaca data csv tersebut\n",
        "df = pd.read_csv(url)\n",
        "\n",
        "# tampilkan 5 baris pertama menggunakan method head\n",
        "df.head()"
      ]
    },
    {
      "cell_type": "code",
      "execution_count": 54,
      "metadata": {
        "colab": {
          "base_uri": "https://localhost:8080/",
          "height": 461
        },
        "id": "4_oYX41PgB5-",
        "outputId": "1b1cf878-b5a5-4246-8449-58aaeab5d855"
      },
      "outputs": [
        {
          "data": {
            "text/html": [
              "<div>\n",
              "<style scoped>\n",
              "    .dataframe tbody tr th:only-of-type {\n",
              "        vertical-align: middle;\n",
              "    }\n",
              "\n",
              "    .dataframe tbody tr th {\n",
              "        vertical-align: top;\n",
              "    }\n",
              "\n",
              "    .dataframe thead th {\n",
              "        text-align: right;\n",
              "    }\n",
              "</style>\n",
              "<table border=\"1\" class=\"dataframe\">\n",
              "  <thead>\n",
              "    <tr style=\"text-align: right;\">\n",
              "      <th></th>\n",
              "      <th>Make</th>\n",
              "      <th>Model</th>\n",
              "      <th>Year</th>\n",
              "      <th>Engine Fuel Type</th>\n",
              "      <th>Engine HP</th>\n",
              "      <th>Engine Cylinders</th>\n",
              "      <th>Transmission Type</th>\n",
              "      <th>Driven_Wheels</th>\n",
              "      <th>Number of Doors</th>\n",
              "      <th>Market Category</th>\n",
              "      <th>Vehicle Size</th>\n",
              "      <th>Vehicle Style</th>\n",
              "      <th>highway MPG</th>\n",
              "      <th>city mpg</th>\n",
              "      <th>Popularity</th>\n",
              "      <th>MSRP</th>\n",
              "    </tr>\n",
              "  </thead>\n",
              "  <tbody>\n",
              "    <tr>\n",
              "      <th>11909</th>\n",
              "      <td>Acura</td>\n",
              "      <td>ZDX</td>\n",
              "      <td>2012</td>\n",
              "      <td>premium unleaded (required)</td>\n",
              "      <td>300.0</td>\n",
              "      <td>6.0</td>\n",
              "      <td>AUTOMATIC</td>\n",
              "      <td>all wheel drive</td>\n",
              "      <td>4.0</td>\n",
              "      <td>Crossover,Hatchback,Luxury</td>\n",
              "      <td>Midsize</td>\n",
              "      <td>4dr Hatchback</td>\n",
              "      <td>23</td>\n",
              "      <td>16</td>\n",
              "      <td>204</td>\n",
              "      <td>46120</td>\n",
              "    </tr>\n",
              "    <tr>\n",
              "      <th>11910</th>\n",
              "      <td>Acura</td>\n",
              "      <td>ZDX</td>\n",
              "      <td>2012</td>\n",
              "      <td>premium unleaded (required)</td>\n",
              "      <td>300.0</td>\n",
              "      <td>6.0</td>\n",
              "      <td>AUTOMATIC</td>\n",
              "      <td>all wheel drive</td>\n",
              "      <td>4.0</td>\n",
              "      <td>Crossover,Hatchback,Luxury</td>\n",
              "      <td>Midsize</td>\n",
              "      <td>4dr Hatchback</td>\n",
              "      <td>23</td>\n",
              "      <td>16</td>\n",
              "      <td>204</td>\n",
              "      <td>56670</td>\n",
              "    </tr>\n",
              "    <tr>\n",
              "      <th>11911</th>\n",
              "      <td>Acura</td>\n",
              "      <td>ZDX</td>\n",
              "      <td>2012</td>\n",
              "      <td>premium unleaded (required)</td>\n",
              "      <td>300.0</td>\n",
              "      <td>6.0</td>\n",
              "      <td>AUTOMATIC</td>\n",
              "      <td>all wheel drive</td>\n",
              "      <td>4.0</td>\n",
              "      <td>Crossover,Hatchback,Luxury</td>\n",
              "      <td>Midsize</td>\n",
              "      <td>4dr Hatchback</td>\n",
              "      <td>23</td>\n",
              "      <td>16</td>\n",
              "      <td>204</td>\n",
              "      <td>50620</td>\n",
              "    </tr>\n",
              "    <tr>\n",
              "      <th>11912</th>\n",
              "      <td>Acura</td>\n",
              "      <td>ZDX</td>\n",
              "      <td>2013</td>\n",
              "      <td>premium unleaded (recommended)</td>\n",
              "      <td>300.0</td>\n",
              "      <td>6.0</td>\n",
              "      <td>AUTOMATIC</td>\n",
              "      <td>all wheel drive</td>\n",
              "      <td>4.0</td>\n",
              "      <td>Crossover,Hatchback,Luxury</td>\n",
              "      <td>Midsize</td>\n",
              "      <td>4dr Hatchback</td>\n",
              "      <td>23</td>\n",
              "      <td>16</td>\n",
              "      <td>204</td>\n",
              "      <td>50920</td>\n",
              "    </tr>\n",
              "    <tr>\n",
              "      <th>11913</th>\n",
              "      <td>Lincoln</td>\n",
              "      <td>Zephyr</td>\n",
              "      <td>2006</td>\n",
              "      <td>regular unleaded</td>\n",
              "      <td>221.0</td>\n",
              "      <td>6.0</td>\n",
              "      <td>AUTOMATIC</td>\n",
              "      <td>front wheel drive</td>\n",
              "      <td>4.0</td>\n",
              "      <td>Luxury</td>\n",
              "      <td>Midsize</td>\n",
              "      <td>Sedan</td>\n",
              "      <td>26</td>\n",
              "      <td>17</td>\n",
              "      <td>61</td>\n",
              "      <td>28995</td>\n",
              "    </tr>\n",
              "  </tbody>\n",
              "</table>\n",
              "</div>"
            ],
            "text/plain": [
              "          Make   Model  Year                Engine Fuel Type  Engine HP  \\\n",
              "11909    Acura     ZDX  2012     premium unleaded (required)      300.0   \n",
              "11910    Acura     ZDX  2012     premium unleaded (required)      300.0   \n",
              "11911    Acura     ZDX  2012     premium unleaded (required)      300.0   \n",
              "11912    Acura     ZDX  2013  premium unleaded (recommended)      300.0   \n",
              "11913  Lincoln  Zephyr  2006                regular unleaded      221.0   \n",
              "\n",
              "       Engine Cylinders Transmission Type      Driven_Wheels  Number of Doors  \\\n",
              "11909               6.0         AUTOMATIC    all wheel drive              4.0   \n",
              "11910               6.0         AUTOMATIC    all wheel drive              4.0   \n",
              "11911               6.0         AUTOMATIC    all wheel drive              4.0   \n",
              "11912               6.0         AUTOMATIC    all wheel drive              4.0   \n",
              "11913               6.0         AUTOMATIC  front wheel drive              4.0   \n",
              "\n",
              "                  Market Category Vehicle Size  Vehicle Style  highway MPG  \\\n",
              "11909  Crossover,Hatchback,Luxury      Midsize  4dr Hatchback           23   \n",
              "11910  Crossover,Hatchback,Luxury      Midsize  4dr Hatchback           23   \n",
              "11911  Crossover,Hatchback,Luxury      Midsize  4dr Hatchback           23   \n",
              "11912  Crossover,Hatchback,Luxury      Midsize  4dr Hatchback           23   \n",
              "11913                      Luxury      Midsize          Sedan           26   \n",
              "\n",
              "       city mpg  Popularity   MSRP  \n",
              "11909        16         204  46120  \n",
              "11910        16         204  56670  \n",
              "11911        16         204  50620  \n",
              "11912        16         204  50920  \n",
              "11913        17          61  28995  "
            ]
          },
          "execution_count": 54,
          "metadata": {},
          "output_type": "execute_result"
        }
      ],
      "source": [
        "# tampilkan 5 baris terakhir dari data menggunakan method tail\n",
        "df.tail()"
      ]
    },
    {
      "attachments": {},
      "cell_type": "markdown",
      "metadata": {},
      "source": [
        "## Data Wrangling"
      ]
    },
    {
      "attachments": {},
      "cell_type": "markdown",
      "metadata": {
        "id": "T5__DdRogNFn"
      },
      "source": [
        "### *Hapus Kolom yang Irrelevant*"
      ]
    },
    {
      "attachments": {},
      "cell_type": "markdown",
      "metadata": {},
      "source": [
        "Hapuslah kolom kolom-kolom ini dari data\n",
        "- Engine Fuel Type,\n",
        "- Market Category,\n",
        "- Vehicle Style,\n",
        "- Popularity,\n",
        "- Number of Doors,\n",
        "- Vehicle Size"
      ]
    },
    {
      "cell_type": "code",
      "execution_count": 55,
      "metadata": {
        "colab": {
          "base_uri": "https://localhost:8080/",
          "height": 372
        },
        "id": "iaOMkiW2gORL",
        "outputId": "d0cbff2d-2d15-4b7c-d989-eab8f4989519"
      },
      "outputs": [
        {
          "data": {
            "text/html": [
              "<div>\n",
              "<style scoped>\n",
              "    .dataframe tbody tr th:only-of-type {\n",
              "        vertical-align: middle;\n",
              "    }\n",
              "\n",
              "    .dataframe tbody tr th {\n",
              "        vertical-align: top;\n",
              "    }\n",
              "\n",
              "    .dataframe thead th {\n",
              "        text-align: right;\n",
              "    }\n",
              "</style>\n",
              "<table border=\"1\" class=\"dataframe\">\n",
              "  <thead>\n",
              "    <tr style=\"text-align: right;\">\n",
              "      <th></th>\n",
              "      <th>Make</th>\n",
              "      <th>Model</th>\n",
              "      <th>Year</th>\n",
              "      <th>Engine HP</th>\n",
              "      <th>Engine Cylinders</th>\n",
              "      <th>Transmission Type</th>\n",
              "      <th>Driven_Wheels</th>\n",
              "      <th>highway MPG</th>\n",
              "      <th>city mpg</th>\n",
              "      <th>MSRP</th>\n",
              "    </tr>\n",
              "  </thead>\n",
              "  <tbody>\n",
              "    <tr>\n",
              "      <th>0</th>\n",
              "      <td>BMW</td>\n",
              "      <td>1 Series M</td>\n",
              "      <td>2011</td>\n",
              "      <td>335.0</td>\n",
              "      <td>6.0</td>\n",
              "      <td>MANUAL</td>\n",
              "      <td>rear wheel drive</td>\n",
              "      <td>26</td>\n",
              "      <td>19</td>\n",
              "      <td>46135</td>\n",
              "    </tr>\n",
              "    <tr>\n",
              "      <th>1</th>\n",
              "      <td>BMW</td>\n",
              "      <td>1 Series</td>\n",
              "      <td>2011</td>\n",
              "      <td>300.0</td>\n",
              "      <td>6.0</td>\n",
              "      <td>MANUAL</td>\n",
              "      <td>rear wheel drive</td>\n",
              "      <td>28</td>\n",
              "      <td>19</td>\n",
              "      <td>40650</td>\n",
              "    </tr>\n",
              "    <tr>\n",
              "      <th>2</th>\n",
              "      <td>BMW</td>\n",
              "      <td>1 Series</td>\n",
              "      <td>2011</td>\n",
              "      <td>300.0</td>\n",
              "      <td>6.0</td>\n",
              "      <td>MANUAL</td>\n",
              "      <td>rear wheel drive</td>\n",
              "      <td>28</td>\n",
              "      <td>20</td>\n",
              "      <td>36350</td>\n",
              "    </tr>\n",
              "    <tr>\n",
              "      <th>3</th>\n",
              "      <td>BMW</td>\n",
              "      <td>1 Series</td>\n",
              "      <td>2011</td>\n",
              "      <td>230.0</td>\n",
              "      <td>6.0</td>\n",
              "      <td>MANUAL</td>\n",
              "      <td>rear wheel drive</td>\n",
              "      <td>28</td>\n",
              "      <td>18</td>\n",
              "      <td>29450</td>\n",
              "    </tr>\n",
              "    <tr>\n",
              "      <th>4</th>\n",
              "      <td>BMW</td>\n",
              "      <td>1 Series</td>\n",
              "      <td>2011</td>\n",
              "      <td>230.0</td>\n",
              "      <td>6.0</td>\n",
              "      <td>MANUAL</td>\n",
              "      <td>rear wheel drive</td>\n",
              "      <td>28</td>\n",
              "      <td>18</td>\n",
              "      <td>34500</td>\n",
              "    </tr>\n",
              "  </tbody>\n",
              "</table>\n",
              "</div>"
            ],
            "text/plain": [
              "  Make       Model  Year  Engine HP  Engine Cylinders Transmission Type  \\\n",
              "0  BMW  1 Series M  2011      335.0               6.0            MANUAL   \n",
              "1  BMW    1 Series  2011      300.0               6.0            MANUAL   \n",
              "2  BMW    1 Series  2011      300.0               6.0            MANUAL   \n",
              "3  BMW    1 Series  2011      230.0               6.0            MANUAL   \n",
              "4  BMW    1 Series  2011      230.0               6.0            MANUAL   \n",
              "\n",
              "      Driven_Wheels  highway MPG  city mpg   MSRP  \n",
              "0  rear wheel drive           26        19  46135  \n",
              "1  rear wheel drive           28        19  40650  \n",
              "2  rear wheel drive           28        20  36350  \n",
              "3  rear wheel drive           28        18  29450  \n",
              "4  rear wheel drive           28        18  34500  "
            ]
          },
          "execution_count": 55,
          "metadata": {},
          "output_type": "execute_result"
        }
      ],
      "source": [
        "# pertama, masukkan kolom-kolom tersebut ke dalam list_kolom\n",
        "list_kolom = ['Engine Fuel Type',\n",
        "              'Market Category',\n",
        "              'Vehicle Style',\n",
        "              'Popularity',\n",
        "              'Number of Doors',\n",
        "              'Vehicle Size']\n",
        "\n",
        "# Gunakan method drop dari pandas untuk menghapus kolom\n",
        "df = df.drop(list_kolom, axis=1)\n",
        "\n",
        "# tampilkan 5 data pertama setelah beberapa kolom di hapus\n",
        "df.head()"
      ]
    },
    {
      "attachments": {},
      "cell_type": "markdown",
      "metadata": {
        "id": "WgeXdezVgjy9"
      },
      "source": [
        "### *Mengubah Nama Kolom*"
      ]
    },
    {
      "attachments": {},
      "cell_type": "markdown",
      "metadata": {},
      "source": [
        "Ubah nama kolom-kolom berikut ini:\n",
        "\n",
        "Engine HP -> HP,<br>\n",
        "Engine Cylinders -> Cylinders,<br>\n",
        "Transmission Type -> Transmission,<br>\n",
        "Driven_Wheels -> Drive Mode,<br>\n",
        "highway MPG -> MPG-H,<br>\n",
        "city mpg -> MPG-C,<br>\n",
        "MSRP -> Price<br>"
      ]
    },
    {
      "cell_type": "code",
      "execution_count": 56,
      "metadata": {
        "colab": {
          "base_uri": "https://localhost:8080/",
          "height": 250
        },
        "id": "JLUr08NRgk4S",
        "outputId": "052e15bc-fe56-4a07-e9b3-09cdecfe194c"
      },
      "outputs": [
        {
          "data": {
            "text/html": [
              "<div>\n",
              "<style scoped>\n",
              "    .dataframe tbody tr th:only-of-type {\n",
              "        vertical-align: middle;\n",
              "    }\n",
              "\n",
              "    .dataframe tbody tr th {\n",
              "        vertical-align: top;\n",
              "    }\n",
              "\n",
              "    .dataframe thead th {\n",
              "        text-align: right;\n",
              "    }\n",
              "</style>\n",
              "<table border=\"1\" class=\"dataframe\">\n",
              "  <thead>\n",
              "    <tr style=\"text-align: right;\">\n",
              "      <th></th>\n",
              "      <th>Make</th>\n",
              "      <th>Model</th>\n",
              "      <th>Year</th>\n",
              "      <th>HP</th>\n",
              "      <th>Cylinders</th>\n",
              "      <th>Transmission</th>\n",
              "      <th>Drive Mode</th>\n",
              "      <th>MPG-H</th>\n",
              "      <th>MPG-C</th>\n",
              "      <th>Price</th>\n",
              "    </tr>\n",
              "  </thead>\n",
              "  <tbody>\n",
              "    <tr>\n",
              "      <th>0</th>\n",
              "      <td>BMW</td>\n",
              "      <td>1 Series M</td>\n",
              "      <td>2011</td>\n",
              "      <td>335.0</td>\n",
              "      <td>6.0</td>\n",
              "      <td>MANUAL</td>\n",
              "      <td>rear wheel drive</td>\n",
              "      <td>26</td>\n",
              "      <td>19</td>\n",
              "      <td>46135</td>\n",
              "    </tr>\n",
              "    <tr>\n",
              "      <th>1</th>\n",
              "      <td>BMW</td>\n",
              "      <td>1 Series</td>\n",
              "      <td>2011</td>\n",
              "      <td>300.0</td>\n",
              "      <td>6.0</td>\n",
              "      <td>MANUAL</td>\n",
              "      <td>rear wheel drive</td>\n",
              "      <td>28</td>\n",
              "      <td>19</td>\n",
              "      <td>40650</td>\n",
              "    </tr>\n",
              "    <tr>\n",
              "      <th>2</th>\n",
              "      <td>BMW</td>\n",
              "      <td>1 Series</td>\n",
              "      <td>2011</td>\n",
              "      <td>300.0</td>\n",
              "      <td>6.0</td>\n",
              "      <td>MANUAL</td>\n",
              "      <td>rear wheel drive</td>\n",
              "      <td>28</td>\n",
              "      <td>20</td>\n",
              "      <td>36350</td>\n",
              "    </tr>\n",
              "    <tr>\n",
              "      <th>3</th>\n",
              "      <td>BMW</td>\n",
              "      <td>1 Series</td>\n",
              "      <td>2011</td>\n",
              "      <td>230.0</td>\n",
              "      <td>6.0</td>\n",
              "      <td>MANUAL</td>\n",
              "      <td>rear wheel drive</td>\n",
              "      <td>28</td>\n",
              "      <td>18</td>\n",
              "      <td>29450</td>\n",
              "    </tr>\n",
              "    <tr>\n",
              "      <th>4</th>\n",
              "      <td>BMW</td>\n",
              "      <td>1 Series</td>\n",
              "      <td>2011</td>\n",
              "      <td>230.0</td>\n",
              "      <td>6.0</td>\n",
              "      <td>MANUAL</td>\n",
              "      <td>rear wheel drive</td>\n",
              "      <td>28</td>\n",
              "      <td>18</td>\n",
              "      <td>34500</td>\n",
              "    </tr>\n",
              "  </tbody>\n",
              "</table>\n",
              "</div>"
            ],
            "text/plain": [
              "  Make       Model  Year     HP  Cylinders Transmission        Drive Mode  \\\n",
              "0  BMW  1 Series M  2011  335.0        6.0       MANUAL  rear wheel drive   \n",
              "1  BMW    1 Series  2011  300.0        6.0       MANUAL  rear wheel drive   \n",
              "2  BMW    1 Series  2011  300.0        6.0       MANUAL  rear wheel drive   \n",
              "3  BMW    1 Series  2011  230.0        6.0       MANUAL  rear wheel drive   \n",
              "4  BMW    1 Series  2011  230.0        6.0       MANUAL  rear wheel drive   \n",
              "\n",
              "   MPG-H  MPG-C  Price  \n",
              "0     26     19  46135  \n",
              "1     28     19  40650  \n",
              "2     28     20  36350  \n",
              "3     28     18  29450  \n",
              "4     28     18  34500  "
            ]
          },
          "execution_count": 56,
          "metadata": {},
          "output_type": "execute_result"
        }
      ],
      "source": [
        "# gunakan method rename dari pandas untuk mengubah nama kolom\n",
        "df = df.rename(columns={\"Engine HP\": \"HP\",\n",
        "                    \"Engine Cylinders\": \"Cylinders\",\n",
        "                    \"Transmission Type\": \"Transmission\",\n",
        "                    \"Driven_Wheels\": \"Drive Mode\",\n",
        "                    \"highway MPG\": \"MPG-H\",\n",
        "                    \"city mpg\": \"MPG-C\",\n",
        "                    \"MSRP\": \"Price\"})\n",
        "\n",
        "# tampilkan 5 data pertama setelah beberapa kolom di ubah nama\n",
        "df.head()"
      ]
    },
    {
      "attachments": {},
      "cell_type": "markdown",
      "metadata": {
        "id": "rWUwHo5jgtyc"
      },
      "source": [
        "### *Menghapus Kolom Duplikat*"
      ]
    },
    {
      "attachments": {},
      "cell_type": "markdown",
      "metadata": {},
      "source": [
        "Gunakan method `duplicated` dari pandas untuk menampilkan data duplikat"
      ]
    },
    {
      "cell_type": "code",
      "execution_count": 57,
      "metadata": {
        "colab": {
          "base_uri": "https://localhost:8080/"
        },
        "id": "5mlsQIZ69Y-H",
        "outputId": "82f7709d-4578-4e7b-ca68-0c8356c44863"
      },
      "outputs": [
        {
          "data": {
            "text/html": [
              "<div>\n",
              "<style scoped>\n",
              "    .dataframe tbody tr th:only-of-type {\n",
              "        vertical-align: middle;\n",
              "    }\n",
              "\n",
              "    .dataframe tbody tr th {\n",
              "        vertical-align: top;\n",
              "    }\n",
              "\n",
              "    .dataframe thead th {\n",
              "        text-align: right;\n",
              "    }\n",
              "</style>\n",
              "<table border=\"1\" class=\"dataframe\">\n",
              "  <thead>\n",
              "    <tr style=\"text-align: right;\">\n",
              "      <th></th>\n",
              "      <th>Make</th>\n",
              "      <th>Model</th>\n",
              "      <th>Year</th>\n",
              "      <th>HP</th>\n",
              "      <th>Cylinders</th>\n",
              "      <th>Transmission</th>\n",
              "      <th>Drive Mode</th>\n",
              "      <th>MPG-H</th>\n",
              "      <th>MPG-C</th>\n",
              "      <th>Price</th>\n",
              "    </tr>\n",
              "  </thead>\n",
              "  <tbody>\n",
              "    <tr>\n",
              "      <th>14</th>\n",
              "      <td>BMW</td>\n",
              "      <td>1 Series</td>\n",
              "      <td>2013</td>\n",
              "      <td>230.0</td>\n",
              "      <td>6.0</td>\n",
              "      <td>MANUAL</td>\n",
              "      <td>rear wheel drive</td>\n",
              "      <td>28</td>\n",
              "      <td>19</td>\n",
              "      <td>31500</td>\n",
              "    </tr>\n",
              "    <tr>\n",
              "      <th>18</th>\n",
              "      <td>Audi</td>\n",
              "      <td>100</td>\n",
              "      <td>1992</td>\n",
              "      <td>172.0</td>\n",
              "      <td>6.0</td>\n",
              "      <td>MANUAL</td>\n",
              "      <td>front wheel drive</td>\n",
              "      <td>24</td>\n",
              "      <td>17</td>\n",
              "      <td>2000</td>\n",
              "    </tr>\n",
              "    <tr>\n",
              "      <th>20</th>\n",
              "      <td>Audi</td>\n",
              "      <td>100</td>\n",
              "      <td>1992</td>\n",
              "      <td>172.0</td>\n",
              "      <td>6.0</td>\n",
              "      <td>MANUAL</td>\n",
              "      <td>front wheel drive</td>\n",
              "      <td>24</td>\n",
              "      <td>17</td>\n",
              "      <td>2000</td>\n",
              "    </tr>\n",
              "    <tr>\n",
              "      <th>24</th>\n",
              "      <td>Audi</td>\n",
              "      <td>100</td>\n",
              "      <td>1993</td>\n",
              "      <td>172.0</td>\n",
              "      <td>6.0</td>\n",
              "      <td>MANUAL</td>\n",
              "      <td>front wheel drive</td>\n",
              "      <td>24</td>\n",
              "      <td>17</td>\n",
              "      <td>2000</td>\n",
              "    </tr>\n",
              "    <tr>\n",
              "      <th>25</th>\n",
              "      <td>Audi</td>\n",
              "      <td>100</td>\n",
              "      <td>1993</td>\n",
              "      <td>172.0</td>\n",
              "      <td>6.0</td>\n",
              "      <td>MANUAL</td>\n",
              "      <td>front wheel drive</td>\n",
              "      <td>24</td>\n",
              "      <td>17</td>\n",
              "      <td>2000</td>\n",
              "    </tr>\n",
              "    <tr>\n",
              "      <th>...</th>\n",
              "      <td>...</td>\n",
              "      <td>...</td>\n",
              "      <td>...</td>\n",
              "      <td>...</td>\n",
              "      <td>...</td>\n",
              "      <td>...</td>\n",
              "      <td>...</td>\n",
              "      <td>...</td>\n",
              "      <td>...</td>\n",
              "      <td>...</td>\n",
              "    </tr>\n",
              "    <tr>\n",
              "      <th>11481</th>\n",
              "      <td>Suzuki</td>\n",
              "      <td>X-90</td>\n",
              "      <td>1998</td>\n",
              "      <td>95.0</td>\n",
              "      <td>4.0</td>\n",
              "      <td>MANUAL</td>\n",
              "      <td>four wheel drive</td>\n",
              "      <td>26</td>\n",
              "      <td>22</td>\n",
              "      <td>2000</td>\n",
              "    </tr>\n",
              "    <tr>\n",
              "      <th>11603</th>\n",
              "      <td>Volvo</td>\n",
              "      <td>XC60</td>\n",
              "      <td>2017</td>\n",
              "      <td>302.0</td>\n",
              "      <td>4.0</td>\n",
              "      <td>AUTOMATIC</td>\n",
              "      <td>all wheel drive</td>\n",
              "      <td>29</td>\n",
              "      <td>20</td>\n",
              "      <td>46350</td>\n",
              "    </tr>\n",
              "    <tr>\n",
              "      <th>11604</th>\n",
              "      <td>Volvo</td>\n",
              "      <td>XC60</td>\n",
              "      <td>2017</td>\n",
              "      <td>240.0</td>\n",
              "      <td>4.0</td>\n",
              "      <td>AUTOMATIC</td>\n",
              "      <td>front wheel drive</td>\n",
              "      <td>30</td>\n",
              "      <td>23</td>\n",
              "      <td>40950</td>\n",
              "    </tr>\n",
              "    <tr>\n",
              "      <th>11708</th>\n",
              "      <td>Suzuki</td>\n",
              "      <td>XL7</td>\n",
              "      <td>2008</td>\n",
              "      <td>252.0</td>\n",
              "      <td>6.0</td>\n",
              "      <td>AUTOMATIC</td>\n",
              "      <td>all wheel drive</td>\n",
              "      <td>22</td>\n",
              "      <td>15</td>\n",
              "      <td>29149</td>\n",
              "    </tr>\n",
              "    <tr>\n",
              "      <th>11717</th>\n",
              "      <td>Suzuki</td>\n",
              "      <td>XL7</td>\n",
              "      <td>2008</td>\n",
              "      <td>252.0</td>\n",
              "      <td>6.0</td>\n",
              "      <td>AUTOMATIC</td>\n",
              "      <td>front wheel drive</td>\n",
              "      <td>22</td>\n",
              "      <td>16</td>\n",
              "      <td>27499</td>\n",
              "    </tr>\n",
              "  </tbody>\n",
              "</table>\n",
              "<p>989 rows × 10 columns</p>\n",
              "</div>"
            ],
            "text/plain": [
              "         Make     Model  Year     HP  Cylinders Transmission  \\\n",
              "14        BMW  1 Series  2013  230.0        6.0       MANUAL   \n",
              "18       Audi       100  1992  172.0        6.0       MANUAL   \n",
              "20       Audi       100  1992  172.0        6.0       MANUAL   \n",
              "24       Audi       100  1993  172.0        6.0       MANUAL   \n",
              "25       Audi       100  1993  172.0        6.0       MANUAL   \n",
              "...       ...       ...   ...    ...        ...          ...   \n",
              "11481  Suzuki      X-90  1998   95.0        4.0       MANUAL   \n",
              "11603   Volvo      XC60  2017  302.0        4.0    AUTOMATIC   \n",
              "11604   Volvo      XC60  2017  240.0        4.0    AUTOMATIC   \n",
              "11708  Suzuki       XL7  2008  252.0        6.0    AUTOMATIC   \n",
              "11717  Suzuki       XL7  2008  252.0        6.0    AUTOMATIC   \n",
              "\n",
              "              Drive Mode  MPG-H  MPG-C  Price  \n",
              "14      rear wheel drive     28     19  31500  \n",
              "18     front wheel drive     24     17   2000  \n",
              "20     front wheel drive     24     17   2000  \n",
              "24     front wheel drive     24     17   2000  \n",
              "25     front wheel drive     24     17   2000  \n",
              "...                  ...    ...    ...    ...  \n",
              "11481   four wheel drive     26     22   2000  \n",
              "11603    all wheel drive     29     20  46350  \n",
              "11604  front wheel drive     30     23  40950  \n",
              "11708    all wheel drive     22     15  29149  \n",
              "11717  front wheel drive     22     16  27499  \n",
              "\n",
              "[989 rows x 10 columns]"
            ]
          },
          "execution_count": 57,
          "metadata": {},
          "output_type": "execute_result"
        }
      ],
      "source": [
        "df[df.duplicated()]"
      ]
    },
    {
      "cell_type": "code",
      "execution_count": 58,
      "metadata": {
        "colab": {
          "base_uri": "https://localhost:8080/"
        },
        "id": "pTNEYyrhhSz4",
        "outputId": "f1b371c3-3e39-43fc-9438-7de1e5e82013"
      },
      "outputs": [
        {
          "data": {
            "text/plain": [
              "Make            11914\n",
              "Model           11914\n",
              "Year            11914\n",
              "HP              11845\n",
              "Cylinders       11884\n",
              "Transmission    11914\n",
              "Drive Mode      11914\n",
              "MPG-H           11914\n",
              "MPG-C           11914\n",
              "Price           11914\n",
              "dtype: int64"
            ]
          },
          "execution_count": 58,
          "metadata": {},
          "output_type": "execute_result"
        }
      ],
      "source": [
        "# gunakan method count dari pandas untuk menampilkan jumlah baris tiap variabel\n",
        "df.count()"
      ]
    },
    {
      "attachments": {},
      "cell_type": "markdown",
      "metadata": {},
      "source": [
        "untuk menghapus data duplikat, gunakan method `drop_duplicates`, dan inisialisasikan dataframe baru setelah drop duplikat ke variabel `df`"
      ]
    },
    {
      "cell_type": "code",
      "execution_count": 59,
      "metadata": {
        "colab": {
          "base_uri": "https://localhost:8080/"
        },
        "id": "CzuPlAWOhcUo",
        "outputId": "30843d5b-2d73-4650-eee0-fa8991470574"
      },
      "outputs": [],
      "source": [
        "df = df.drop_duplicates()"
      ]
    },
    {
      "cell_type": "code",
      "execution_count": 60,
      "metadata": {},
      "outputs": [
        {
          "data": {
            "text/plain": [
              "Make            10925\n",
              "Model           10925\n",
              "Year            10925\n",
              "HP              10856\n",
              "Cylinders       10895\n",
              "Transmission    10925\n",
              "Drive Mode      10925\n",
              "MPG-H           10925\n",
              "MPG-C           10925\n",
              "Price           10925\n",
              "dtype: int64"
            ]
          },
          "execution_count": 60,
          "metadata": {},
          "output_type": "execute_result"
        }
      ],
      "source": [
        "# lihat jumlah baris setelah drop duplikat menggunakan method count\n",
        "df.count()\n"
      ]
    },
    {
      "attachments": {},
      "cell_type": "markdown",
      "metadata": {
        "id": "3qzdZjPNhjxV"
      },
      "source": [
        "### *Menghapus Missing Values*"
      ]
    },
    {
      "attachments": {},
      "cell_type": "markdown",
      "metadata": {},
      "source": [
        "Gunakan method `isnull` untuk mengecek null values atau tidak, lalu gunakan method `sum` untuk menjumlahkan semua hasil method `isnull` bernilai `True`."
      ]
    },
    {
      "cell_type": "code",
      "execution_count": 61,
      "metadata": {
        "colab": {
          "base_uri": "https://localhost:8080/"
        },
        "id": "pCuYuwwqhk4V",
        "outputId": "0047f1cf-2a0f-4f9b-dbfe-dc5a08be8a79"
      },
      "outputs": [
        {
          "name": "stdout",
          "output_type": "stream",
          "text": [
            "Make             0\n",
            "Model            0\n",
            "Year             0\n",
            "HP              69\n",
            "Cylinders       30\n",
            "Transmission     0\n",
            "Drive Mode       0\n",
            "MPG-H            0\n",
            "MPG-C            0\n",
            "Price            0\n",
            "dtype: int64\n"
          ]
        }
      ],
      "source": [
        "# Cek jumlah missing values tiap variable\n",
        "print(df.isnull().sum())"
      ]
    },
    {
      "attachments": {},
      "cell_type": "markdown",
      "metadata": {},
      "source": [
        "Gunakan method `dropna` untuk menghapus missing / null values di data."
      ]
    },
    {
      "cell_type": "code",
      "execution_count": 63,
      "metadata": {
        "colab": {
          "base_uri": "https://localhost:8080/"
        },
        "id": "ZqbepnSehyp4",
        "outputId": "18b84164-8955-4fbc-cad1-7a12058851a4"
      },
      "outputs": [],
      "source": [
        "df = df.dropna()    # Dropping the missing values."
      ]
    },
    {
      "cell_type": "code",
      "execution_count": 64,
      "metadata": {},
      "outputs": [
        {
          "data": {
            "text/plain": [
              "Make            10827\n",
              "Model           10827\n",
              "Year            10827\n",
              "HP              10827\n",
              "Cylinders       10827\n",
              "Transmission    10827\n",
              "Drive Mode      10827\n",
              "MPG-H           10827\n",
              "MPG-C           10827\n",
              "Price           10827\n",
              "dtype: int64"
            ]
          },
          "execution_count": 64,
          "metadata": {},
          "output_type": "execute_result"
        }
      ],
      "source": [
        "# lihat jumlah baris setelah drop missing values menggunakan method count\n",
        "df.count()"
      ]
    },
    {
      "attachments": {},
      "cell_type": "markdown",
      "metadata": {
        "id": "vUYlihAzh40s"
      },
      "source": [
        "Setelah dihapus missing values nya, kita bisa cek lagi apakah masih ada atau tidak dengan menggunakan method `isnull` dan `sum`"
      ]
    },
    {
      "cell_type": "code",
      "execution_count": 65,
      "metadata": {
        "colab": {
          "base_uri": "https://localhost:8080/"
        },
        "id": "M9gM46YDh5ai",
        "outputId": "3d37c931-4f7d-4b8b-9241-a19be3025b07"
      },
      "outputs": [
        {
          "name": "stdout",
          "output_type": "stream",
          "text": [
            "Make            0\n",
            "Model           0\n",
            "Year            0\n",
            "HP              0\n",
            "Cylinders       0\n",
            "Transmission    0\n",
            "Drive Mode      0\n",
            "MPG-H           0\n",
            "MPG-C           0\n",
            "Price           0\n",
            "dtype: int64\n"
          ]
        }
      ],
      "source": [
        "# Cek jumlah missing values tiap variable\n",
        "print(df.isnull().sum())"
      ]
    },
    {
      "attachments": {},
      "cell_type": "markdown",
      "metadata": {
        "id": "ozn0Ay8Xh9cs"
      },
      "source": [
        "### *Mendeteksi Outliers*"
      ]
    },
    {
      "attachments": {},
      "cell_type": "markdown",
      "metadata": {},
      "source": [
        "Gunakan method `boxplot` dari `seaborn` untuk melihat distribusi data dengan dalam bentuk `boxplot`"
      ]
    },
    {
      "cell_type": "code",
      "execution_count": 66,
      "metadata": {
        "colab": {
          "base_uri": "https://localhost:8080/",
          "height": 303
        },
        "id": "Qw5qsNPqh-i1",
        "outputId": "a72e732f-a5eb-4867-83d7-f5c230a01861"
      },
      "outputs": [
        {
          "data": {
            "text/plain": [
              "<AxesSubplot:xlabel='Price'>"
            ]
          },
          "execution_count": 66,
          "metadata": {},
          "output_type": "execute_result"
        },
        {
          "data": {
            "image/png": "[encoded data removed]",
            "text/plain": [
              "<Figure size 432x288 with 1 Axes>"
            ]
          },
          "metadata": {},
          "output_type": "display_data"
        }
      ],
      "source": [
        "# Boxplot untuk variabel Price\n",
        "sns.boxplot(x=df['Price'])"
      ]
    },
    {
      "cell_type": "code",
      "execution_count": 67,
      "metadata": {
        "colab": {
          "base_uri": "https://localhost:8080/",
          "height": 303
        },
        "id": "sH2Or341iHko",
        "outputId": "ba4f8e55-60c9-4cf0-9dca-b8a2008a7b49"
      },
      "outputs": [
        {
          "data": {
            "text/plain": [
              "<AxesSubplot:xlabel='HP'>"
            ]
          },
          "execution_count": 67,
          "metadata": {},
          "output_type": "execute_result"
        },
        {
          "data": {
            "image/png": "[encoded data removed]",
            "text/plain": [
              "<Figure size 432x288 with 1 Axes>"
            ]
          },
          "metadata": {},
          "output_type": "display_data"
        }
      ],
      "source": [
        "# Boxplot untuk variabel HP\n",
        "sns.boxplot(x=df['HP'])"
      ]
    },
    {
      "cell_type": "code",
      "execution_count": 68,
      "metadata": {
        "colab": {
          "base_uri": "https://localhost:8080/",
          "height": 303
        },
        "id": "8FJdjmsXiL1K",
        "outputId": "bf4e0974-6f7f-43b2-c859-8aa87e1c46ed"
      },
      "outputs": [
        {
          "data": {
            "text/plain": [
              "<AxesSubplot:xlabel='Cylinders'>"
            ]
          },
          "execution_count": 68,
          "metadata": {},
          "output_type": "execute_result"
        },
        {
          "data": {
            "image/png": "[encoded data removed]",
            "text/plain": [
              "<Figure size 432x288 with 1 Axes>"
            ]
          },
          "metadata": {},
          "output_type": "display_data"
        }
      ],
      "source": [
        "# Boxplot untuk variabel Cylinders\n",
        "sns.boxplot(x=df['Cylinders'])"
      ]
    },
    {
      "attachments": {},
      "cell_type": "markdown",
      "metadata": {},
      "source": [
        "## Exploratory Data Analysis"
      ]
    },
    {
      "attachments": {},
      "cell_type": "markdown",
      "metadata": {
        "id": "fM4c4R-0iwnU"
      },
      "source": [
        "### *Plot Korelasi antar Feature*"
      ]
    },
    {
      "cell_type": "markdown",
      "metadata": {
        "id": "yOP9HVSui58_"
      },
      "source": [
        "**Histogram**"
      ]
    },
    {
      "attachments": {},
      "cell_type": "markdown",
      "metadata": {},
      "source": [
        "Gunakan method `nlargest` dengan argumen `40` untuk melihat frekuensi `40` data terbanyak di data.\n",
        "\n",
        "Set kind ke `bar` untuk bar chart.\n",
        "\n",
        "atur ukuran grafik ke `10, 5`"
      ]
    },
    {
      "cell_type": "code",
      "execution_count": 69,
      "metadata": {
        "colab": {
          "base_uri": "https://localhost:8080/",
          "height": 429
        },
        "id": "4A2GJHavi0w1",
        "outputId": "7f15a7d3-ce58-4cc3-cb4a-6b37abe1e53e"
      },
      "outputs": [
        {
          "data": {
            "image/png": "[encoded data removed]",
            "text/plain": [
              "<Figure size 720x360 with 1 Axes>"
            ]
          },
          "metadata": {},
          "output_type": "display_data"
        }
      ],
      "source": [
        "# untuk frequency data, gunakan bar chart\n",
        "df.Make.value_counts().nlargest(40).plot(kind='bar', figsize=(10,5))\n",
        "plt.title(\"Number of cars by make\") # judul grafik\n",
        "plt.ylabel('Number of cars')        # label untuk koordinat y\n",
        "plt.xlabel('Make');                 # label untuk koordinat x"
      ]
    },
    {
      "cell_type": "markdown",
      "metadata": {
        "id": "vCBS1ItRi_5F"
      },
      "source": [
        "**Heat Maps**"
      ]
    },
    {
      "attachments": {},
      "cell_type": "markdown",
      "metadata": {},
      "source": [
        "atur ukuran grafik ke `10, 5`\n",
        "\n",
        "gunakan method `coor` dari `pandas` untuk melihat korelasi tiap variabel dalam bentuk `dataframe`\n",
        "\n",
        "gunakan method `heatmap` dari `seaborn` untuk melihat korelasi tiap variabel dalam bentuk `heatmap`"
      ]
    },
    {
      "cell_type": "code",
      "execution_count": 70,
      "metadata": {
        "colab": {
          "base_uri": "https://localhost:8080/",
          "height": 546
        },
        "id": "3x09YS1jjC6R",
        "outputId": "82e0c8b9-7de5-430d-98a2-67ffc77283c8"
      },
      "outputs": [
        {
          "data": {
            "text/html": [
              "<div>\n",
              "<style scoped>\n",
              "    .dataframe tbody tr th:only-of-type {\n",
              "        vertical-align: middle;\n",
              "    }\n",
              "\n",
              "    .dataframe tbody tr th {\n",
              "        vertical-align: top;\n",
              "    }\n",
              "\n",
              "    .dataframe thead th {\n",
              "        text-align: right;\n",
              "    }\n",
              "</style>\n",
              "<table border=\"1\" class=\"dataframe\">\n",
              "  <thead>\n",
              "    <tr style=\"text-align: right;\">\n",
              "      <th></th>\n",
              "      <th>Year</th>\n",
              "      <th>HP</th>\n",
              "      <th>Cylinders</th>\n",
              "      <th>MPG-H</th>\n",
              "      <th>MPG-C</th>\n",
              "      <th>Price</th>\n",
              "    </tr>\n",
              "  </thead>\n",
              "  <tbody>\n",
              "    <tr>\n",
              "      <th>Year</th>\n",
              "      <td>1.000000</td>\n",
              "      <td>0.314971</td>\n",
              "      <td>-0.050598</td>\n",
              "      <td>0.284237</td>\n",
              "      <td>0.234135</td>\n",
              "      <td>0.196789</td>\n",
              "    </tr>\n",
              "    <tr>\n",
              "      <th>HP</th>\n",
              "      <td>0.314971</td>\n",
              "      <td>1.000000</td>\n",
              "      <td>0.788007</td>\n",
              "      <td>-0.420281</td>\n",
              "      <td>-0.473551</td>\n",
              "      <td>0.659835</td>\n",
              "    </tr>\n",
              "    <tr>\n",
              "      <th>Cylinders</th>\n",
              "      <td>-0.050598</td>\n",
              "      <td>0.788007</td>\n",
              "      <td>1.000000</td>\n",
              "      <td>-0.611576</td>\n",
              "      <td>-0.632407</td>\n",
              "      <td>0.554740</td>\n",
              "    </tr>\n",
              "    <tr>\n",
              "      <th>MPG-H</th>\n",
              "      <td>0.284237</td>\n",
              "      <td>-0.420281</td>\n",
              "      <td>-0.611576</td>\n",
              "      <td>1.000000</td>\n",
              "      <td>0.841229</td>\n",
              "      <td>-0.209150</td>\n",
              "    </tr>\n",
              "    <tr>\n",
              "      <th>MPG-C</th>\n",
              "      <td>0.234135</td>\n",
              "      <td>-0.473551</td>\n",
              "      <td>-0.632407</td>\n",
              "      <td>0.841229</td>\n",
              "      <td>1.000000</td>\n",
              "      <td>-0.234050</td>\n",
              "    </tr>\n",
              "    <tr>\n",
              "      <th>Price</th>\n",
              "      <td>0.196789</td>\n",
              "      <td>0.659835</td>\n",
              "      <td>0.554740</td>\n",
              "      <td>-0.209150</td>\n",
              "      <td>-0.234050</td>\n",
              "      <td>1.000000</td>\n",
              "    </tr>\n",
              "  </tbody>\n",
              "</table>\n",
              "</div>"
            ],
            "text/plain": [
              "               Year        HP  Cylinders     MPG-H     MPG-C     Price\n",
              "Year       1.000000  0.314971  -0.050598  0.284237  0.234135  0.196789\n",
              "HP         0.314971  1.000000   0.788007 -0.420281 -0.473551  0.659835\n",
              "Cylinders -0.050598  0.788007   1.000000 -0.611576 -0.632407  0.554740\n",
              "MPG-H      0.284237 -0.420281  -0.611576  1.000000  0.841229 -0.209150\n",
              "MPG-C      0.234135 -0.473551  -0.632407  0.841229  1.000000 -0.234050\n",
              "Price      0.196789  0.659835   0.554740 -0.209150 -0.234050  1.000000"
            ]
          },
          "execution_count": 70,
          "metadata": {},
          "output_type": "execute_result"
        },
        {
          "data": {
            "image/png": "[encoded data removed]",
            "text/plain": [
              "<Figure size 720x360 with 2 Axes>"
            ]
          },
          "metadata": {},
          "output_type": "display_data"
        }
      ],
      "source": [
        "# untuk analisis korelasi seluruh variabel gunakan heatmaps\n",
        "plt.figure(figsize=(10,5))\n",
        "c = df.corr()\n",
        "sns.heatmap(c, cmap = \"BrBG\", annot = True)\n",
        "c"
      ]
    },
    {
      "cell_type": "markdown",
      "metadata": {
        "id": "PmAGeYUDjLHF"
      },
      "source": [
        "**Scatterplot**"
      ]
    },
    {
      "attachments": {},
      "cell_type": "markdown",
      "metadata": {},
      "source": [
        "Disini teman kelas akan melihat korelasi antar 2 variabel saja yaitu `HP` dan `Price`\n",
        "\n",
        "atur ukuran grafik ke `10, 5`\n",
        "\n",
        "gunakan method `scatter` dari matplotlib untuk menampilkan scatterplot\n",
        "\n",
        "lalu panggil method `show` untuk memunculkan output plotnya"
      ]
    },
    {
      "cell_type": "code",
      "execution_count": 71,
      "metadata": {
        "colab": {
          "base_uri": "https://localhost:8080/",
          "height": 394
        },
        "id": "UJ_DCv2wjMrM",
        "outputId": "c5c93083-c875-4e96-a5c6-d401b0b93857"
      },
      "outputs": [
        {
          "data": {
            "image/png": "[encoded data removed]",
            "text/plain": [
              "<Figure size 720x432 with 1 Axes>"
            ]
          },
          "metadata": {},
          "output_type": "display_data"
        }
      ],
      "source": [
        "# untuk korelasi antara dua variabel gunakan scatterplot\n",
        "fig, ax = plt.subplots(figsize=(10,6))\n",
        "ax.scatter(df['HP'], df['Price'])\n",
        "ax.set_xlabel('HP')     # label untuk koordinat x\n",
        "ax.set_ylabel('Price')  # label untuk koordinat y\n",
        "plt.show()"
      ]
    },
    {
      "cell_type": "markdown",
      "metadata": {
        "id": "D85v8dWLl1BH"
      },
      "source": [
        "## 10. Grouping Data"
      ]
    },
    {
      "cell_type": "markdown",
      "metadata": {
        "id": "kjEF4ke4muXU"
      },
      "source": [
        "### *Numerical Data*"
      ]
    },
    {
      "attachments": {},
      "cell_type": "markdown",
      "metadata": {},
      "source": [
        "Kita bisa memfilter data apa saja yang bertipe `numerikal` dan sebaliknya.\n",
        "\n",
        "misalkan disini kita ingin mengambil data `numerikal` saja, caranya:\n",
        "\n",
        "gunakan method `select_dtypes` dari pandas untuk memilih suatu `type data`\n",
        "\n",
        "lalu `exclude` data bertipe `object`\n",
        "\n",
        "kemudian simpan ke variabel `data_num_columns`"
      ]
    },
    {
      "cell_type": "code",
      "execution_count": 72,
      "metadata": {},
      "outputs": [],
      "source": [
        "# Numerical columns as a variable\n",
        "data_num_columns = df.select_dtypes(exclude=['object'])"
      ]
    },
    {
      "attachments": {},
      "cell_type": "markdown",
      "metadata": {},
      "source": [
        "Lalu print `data_num_columns`"
      ]
    },
    {
      "cell_type": "code",
      "execution_count": 73,
      "metadata": {},
      "outputs": [
        {
          "name": "stdout",
          "output_type": "stream",
          "text": [
            "       Year     HP  Cylinders  MPG-H  MPG-C  Price\n",
            "0      2011  335.0        6.0     26     19  46135\n",
            "1      2011  300.0        6.0     28     19  40650\n",
            "2      2011  300.0        6.0     28     20  36350\n",
            "3      2011  230.0        6.0     28     18  29450\n",
            "4      2011  230.0        6.0     28     18  34500\n",
            "...     ...    ...        ...    ...    ...    ...\n",
            "11909  2012  300.0        6.0     23     16  46120\n",
            "11910  2012  300.0        6.0     23     16  56670\n",
            "11911  2012  300.0        6.0     23     16  50620\n",
            "11912  2013  300.0        6.0     23     16  50920\n",
            "11913  2006  221.0        6.0     26     17  28995\n",
            "\n",
            "[10827 rows x 6 columns]\n"
          ]
        }
      ],
      "source": [
        "print(data_num_columns)"
      ]
    },
    {
      "cell_type": "markdown",
      "metadata": {
        "id": "6uSZPjxRl8SB"
      },
      "source": [
        "### *Categorical Data*"
      ]
    },
    {
      "attachments": {},
      "cell_type": "markdown",
      "metadata": {},
      "source": [
        "sama seperti filtering di numrical data, namun disini untuk argumen di `select_dtypes` kita set\n",
        "```python\n",
        "include=[\"object\"]\n",
        "```"
      ]
    },
    {
      "cell_type": "code",
      "execution_count": 74,
      "metadata": {
        "colab": {
          "base_uri": "https://localhost:8080/",
          "height": 424
        },
        "id": "oWMGzPHol5Qo",
        "outputId": "ec5e915a-494f-4a60-ff0c-0e7480e83709"
      },
      "outputs": [
        {
          "data": {
            "text/html": [
              "<div>\n",
              "<style scoped>\n",
              "    .dataframe tbody tr th:only-of-type {\n",
              "        vertical-align: middle;\n",
              "    }\n",
              "\n",
              "    .dataframe tbody tr th {\n",
              "        vertical-align: top;\n",
              "    }\n",
              "\n",
              "    .dataframe thead th {\n",
              "        text-align: right;\n",
              "    }\n",
              "</style>\n",
              "<table border=\"1\" class=\"dataframe\">\n",
              "  <thead>\n",
              "    <tr style=\"text-align: right;\">\n",
              "      <th></th>\n",
              "      <th>Make</th>\n",
              "      <th>Model</th>\n",
              "      <th>Transmission</th>\n",
              "      <th>Drive Mode</th>\n",
              "    </tr>\n",
              "  </thead>\n",
              "  <tbody>\n",
              "    <tr>\n",
              "      <th>0</th>\n",
              "      <td>BMW</td>\n",
              "      <td>1 Series M</td>\n",
              "      <td>MANUAL</td>\n",
              "      <td>rear wheel drive</td>\n",
              "    </tr>\n",
              "    <tr>\n",
              "      <th>1</th>\n",
              "      <td>BMW</td>\n",
              "      <td>1 Series</td>\n",
              "      <td>MANUAL</td>\n",
              "      <td>rear wheel drive</td>\n",
              "    </tr>\n",
              "    <tr>\n",
              "      <th>2</th>\n",
              "      <td>BMW</td>\n",
              "      <td>1 Series</td>\n",
              "      <td>MANUAL</td>\n",
              "      <td>rear wheel drive</td>\n",
              "    </tr>\n",
              "    <tr>\n",
              "      <th>3</th>\n",
              "      <td>BMW</td>\n",
              "      <td>1 Series</td>\n",
              "      <td>MANUAL</td>\n",
              "      <td>rear wheel drive</td>\n",
              "    </tr>\n",
              "    <tr>\n",
              "      <th>4</th>\n",
              "      <td>BMW</td>\n",
              "      <td>1 Series</td>\n",
              "      <td>MANUAL</td>\n",
              "      <td>rear wheel drive</td>\n",
              "    </tr>\n",
              "    <tr>\n",
              "      <th>...</th>\n",
              "      <td>...</td>\n",
              "      <td>...</td>\n",
              "      <td>...</td>\n",
              "      <td>...</td>\n",
              "    </tr>\n",
              "    <tr>\n",
              "      <th>11909</th>\n",
              "      <td>Acura</td>\n",
              "      <td>ZDX</td>\n",
              "      <td>AUTOMATIC</td>\n",
              "      <td>all wheel drive</td>\n",
              "    </tr>\n",
              "    <tr>\n",
              "      <th>11910</th>\n",
              "      <td>Acura</td>\n",
              "      <td>ZDX</td>\n",
              "      <td>AUTOMATIC</td>\n",
              "      <td>all wheel drive</td>\n",
              "    </tr>\n",
              "    <tr>\n",
              "      <th>11911</th>\n",
              "      <td>Acura</td>\n",
              "      <td>ZDX</td>\n",
              "      <td>AUTOMATIC</td>\n",
              "      <td>all wheel drive</td>\n",
              "    </tr>\n",
              "    <tr>\n",
              "      <th>11912</th>\n",
              "      <td>Acura</td>\n",
              "      <td>ZDX</td>\n",
              "      <td>AUTOMATIC</td>\n",
              "      <td>all wheel drive</td>\n",
              "    </tr>\n",
              "    <tr>\n",
              "      <th>11913</th>\n",
              "      <td>Lincoln</td>\n",
              "      <td>Zephyr</td>\n",
              "      <td>AUTOMATIC</td>\n",
              "      <td>front wheel drive</td>\n",
              "    </tr>\n",
              "  </tbody>\n",
              "</table>\n",
              "<p>10827 rows × 4 columns</p>\n",
              "</div>"
            ],
            "text/plain": [
              "          Make       Model Transmission         Drive Mode\n",
              "0          BMW  1 Series M       MANUAL   rear wheel drive\n",
              "1          BMW    1 Series       MANUAL   rear wheel drive\n",
              "2          BMW    1 Series       MANUAL   rear wheel drive\n",
              "3          BMW    1 Series       MANUAL   rear wheel drive\n",
              "4          BMW    1 Series       MANUAL   rear wheel drive\n",
              "...        ...         ...          ...                ...\n",
              "11909    Acura         ZDX    AUTOMATIC    all wheel drive\n",
              "11910    Acura         ZDX    AUTOMATIC    all wheel drive\n",
              "11911    Acura         ZDX    AUTOMATIC    all wheel drive\n",
              "11912    Acura         ZDX    AUTOMATIC    all wheel drive\n",
              "11913  Lincoln      Zephyr    AUTOMATIC  front wheel drive\n",
              "\n",
              "[10827 rows x 4 columns]"
            ]
          },
          "execution_count": 74,
          "metadata": {},
          "output_type": "execute_result"
        }
      ],
      "source": [
        "# Select data group categorical only\n",
        "df.select_dtypes(include=[\"object\"])"
      ]
    },
    {
      "cell_type": "markdown",
      "metadata": {
        "id": "Yz4VWjuNlRzF"
      },
      "source": [
        "## 11. Descriptive statistics using `describe()`"
      ]
    },
    {
      "attachments": {},
      "cell_type": "markdown",
      "metadata": {},
      "source": [
        "Gunakan method `describe` dari `pandas` untuk menampilkan `statistik deskriptif` dari data (`count`, `mean`, `min`, `max`, `std` dan lainnya)"
      ]
    },
    {
      "cell_type": "code",
      "execution_count": 75,
      "metadata": {
        "colab": {
          "base_uri": "https://localhost:8080/",
          "height": 300
        },
        "id": "uEQqiiyMlIcB",
        "outputId": "3bc5e50b-67e3-4c11-ac5c-211e0ba32b55"
      },
      "outputs": [
        {
          "data": {
            "text/html": [
              "<div>\n",
              "<style scoped>\n",
              "    .dataframe tbody tr th:only-of-type {\n",
              "        vertical-align: middle;\n",
              "    }\n",
              "\n",
              "    .dataframe tbody tr th {\n",
              "        vertical-align: top;\n",
              "    }\n",
              "\n",
              "    .dataframe thead th {\n",
              "        text-align: right;\n",
              "    }\n",
              "</style>\n",
              "<table border=\"1\" class=\"dataframe\">\n",
              "  <thead>\n",
              "    <tr style=\"text-align: right;\">\n",
              "      <th></th>\n",
              "      <th>Year</th>\n",
              "      <th>HP</th>\n",
              "      <th>Cylinders</th>\n",
              "      <th>MPG-H</th>\n",
              "      <th>MPG-C</th>\n",
              "      <th>Price</th>\n",
              "    </tr>\n",
              "  </thead>\n",
              "  <tbody>\n",
              "    <tr>\n",
              "      <th>count</th>\n",
              "      <td>10827.000000</td>\n",
              "      <td>10827.000000</td>\n",
              "      <td>10827.000000</td>\n",
              "      <td>10827.000000</td>\n",
              "      <td>10827.000000</td>\n",
              "      <td>1.082700e+04</td>\n",
              "    </tr>\n",
              "    <tr>\n",
              "      <th>mean</th>\n",
              "      <td>2010.896370</td>\n",
              "      <td>254.553062</td>\n",
              "      <td>5.691604</td>\n",
              "      <td>26.308119</td>\n",
              "      <td>19.327607</td>\n",
              "      <td>4.249325e+04</td>\n",
              "    </tr>\n",
              "    <tr>\n",
              "      <th>std</th>\n",
              "      <td>7.029534</td>\n",
              "      <td>109.841537</td>\n",
              "      <td>1.768551</td>\n",
              "      <td>7.504652</td>\n",
              "      <td>6.643567</td>\n",
              "      <td>6.229451e+04</td>\n",
              "    </tr>\n",
              "    <tr>\n",
              "      <th>min</th>\n",
              "      <td>1990.000000</td>\n",
              "      <td>55.000000</td>\n",
              "      <td>0.000000</td>\n",
              "      <td>12.000000</td>\n",
              "      <td>7.000000</td>\n",
              "      <td>2.000000e+03</td>\n",
              "    </tr>\n",
              "    <tr>\n",
              "      <th>25%</th>\n",
              "      <td>2007.000000</td>\n",
              "      <td>173.000000</td>\n",
              "      <td>4.000000</td>\n",
              "      <td>22.000000</td>\n",
              "      <td>16.000000</td>\n",
              "      <td>2.197250e+04</td>\n",
              "    </tr>\n",
              "    <tr>\n",
              "      <th>50%</th>\n",
              "      <td>2015.000000</td>\n",
              "      <td>240.000000</td>\n",
              "      <td>6.000000</td>\n",
              "      <td>25.000000</td>\n",
              "      <td>18.000000</td>\n",
              "      <td>3.084500e+04</td>\n",
              "    </tr>\n",
              "    <tr>\n",
              "      <th>75%</th>\n",
              "      <td>2016.000000</td>\n",
              "      <td>303.000000</td>\n",
              "      <td>6.000000</td>\n",
              "      <td>30.000000</td>\n",
              "      <td>22.000000</td>\n",
              "      <td>4.330000e+04</td>\n",
              "    </tr>\n",
              "    <tr>\n",
              "      <th>max</th>\n",
              "      <td>2017.000000</td>\n",
              "      <td>1001.000000</td>\n",
              "      <td>16.000000</td>\n",
              "      <td>354.000000</td>\n",
              "      <td>137.000000</td>\n",
              "      <td>2.065902e+06</td>\n",
              "    </tr>\n",
              "  </tbody>\n",
              "</table>\n",
              "</div>"
            ],
            "text/plain": [
              "               Year            HP     Cylinders         MPG-H         MPG-C  \\\n",
              "count  10827.000000  10827.000000  10827.000000  10827.000000  10827.000000   \n",
              "mean    2010.896370    254.553062      5.691604     26.308119     19.327607   \n",
              "std        7.029534    109.841537      1.768551      7.504652      6.643567   \n",
              "min     1990.000000     55.000000      0.000000     12.000000      7.000000   \n",
              "25%     2007.000000    173.000000      4.000000     22.000000     16.000000   \n",
              "50%     2015.000000    240.000000      6.000000     25.000000     18.000000   \n",
              "75%     2016.000000    303.000000      6.000000     30.000000     22.000000   \n",
              "max     2017.000000   1001.000000     16.000000    354.000000    137.000000   \n",
              "\n",
              "              Price  \n",
              "count  1.082700e+04  \n",
              "mean   4.249325e+04  \n",
              "std    6.229451e+04  \n",
              "min    2.000000e+03  \n",
              "25%    2.197250e+04  \n",
              "50%    3.084500e+04  \n",
              "75%    4.330000e+04  \n",
              "max    2.065902e+06  "
            ]
          },
          "execution_count": 75,
          "metadata": {},
          "output_type": "execute_result"
        }
      ],
      "source": [
        "df.describe()"
      ]
    },
    {
      "cell_type": "markdown",
      "metadata": {
        "id": "BfffRs83pDhD"
      },
      "source": [
        "### *Data Distribution*"
      ]
    },
    {
      "attachments": {},
      "cell_type": "markdown",
      "metadata": {},
      "source": [
        "Selanjutnya setiap `variabel numerikal` di `data_num_columns` akan kita liat distribusinya seperti apa, menggunakan method `displot` dari `seaborn`."
      ]
    },
    {
      "cell_type": "code",
      "execution_count": 76,
      "metadata": {
        "colab": {
          "base_uri": "https://localhost:8080/",
          "height": 666
        },
        "id": "OklOLMLNo47A",
        "outputId": "a0b61b4f-39e5-4a23-ef63-2622e2106205"
      },
      "outputs": [
        {
          "data": {
            "image/png": "[encoded data removed]",
            "text/plain": [
              "<Figure size 1296x1152 with 6 Axes>"
            ]
          },
          "metadata": {},
          "output_type": "display_data"
        }
      ],
      "source": [
        "# Visualizing data distribution with distplot\n",
        "x = plt.figure(figsize=(18, 16))                # atur size grafik ke 18, 16\n",
        "\n",
        "for i, j in enumerate(data_num_columns):        # enumerate i as index and j as data in data_num_columns\n",
        "    x.add_subplot(3, 2, i+1)\n",
        "    sns.distplot(df[j], bins=15)                # panggil method distplot\n",
        "    x.tight_layout()\n",
        "\n",
        "plt.tight_layout()"
      ]
    }
  ],
  "metadata": {
    "colab": {
      "provenance": []
    },
    "kernelspec": {
      "display_name": "Python 3",
      "language": "python",
      "name": "python3"
    },
    "language_info": {
      "codemirror_mode": {
        "name": "ipython",
        "version": 3
      },
      "file_extension": ".py",
      "mimetype": "text/x-python",
      "name": "python",
      "nbconvert_exporter": "python",
      "pygments_lexer": "ipython3",
      "version": "3.10.5 (tags/v3.10.5:f377153, Jun  6 2022, 16:14:13) [MSC v.1929 64 bit (AMD64)]"
    },
    "vscode": {
      "interpreter": {
        "hash": "213524bb45a1aeaf737b1d8c77d7b8db5d425938d9dffc5f4bc6fe6dd3324700"
      }
    }
  },
  "nbformat": 4,
  "nbformat_minor": 0
}
