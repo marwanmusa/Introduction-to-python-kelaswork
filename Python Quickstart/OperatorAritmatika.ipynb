{
  "cells": [
    {
      "cell_type": "markdown",
      "metadata": {
        "id": "fkwFedqBmeQI"
      },
      "source": [
        "# OPERATOR ARITMATIKA"
      ]
    },
    {
      "cell_type": "markdown",
      "metadata": {},
      "source": [
        "- Penjumlahan\n",
        "- Pengurangan\n",
        "- Perkalian\n",
        "- Pembagian\n",
        "- Sisa Bagi\n",
        "- Pangkat\n",
        "- Pembagian Bulat"
      ]
    },
    {
      "cell_type": "code",
      "execution_count": 1,
      "metadata": {
        "colab": {
          "base_uri": "https://localhost:8080/"
        },
        "id": "A1d_7vLLmggH",
        "outputId": "65b2b6b3-43b5-4655-f654-9ce0719433a4"
      },
      "outputs": [
        {
          "name": "stdout",
          "output_type": "stream",
          "text": [
            "15\n",
            "16\n"
          ]
        }
      ],
      "source": [
        "#Penjumlahan\n",
        "print(13 + 2)\n",
        "apel = 7\n",
        "jeruk = 9\n",
        "buah = apel + jeruk\n",
        "print(buah)"
      ]
    },
    {
      "cell_type": "code",
      "execution_count": 2,
      "metadata": {
        "colab": {
          "base_uri": "https://localhost:8080/"
        },
        "id": "yP3Q5TfTmiAL",
        "outputId": "6c65a54a-f039-4af1-bdb3-ce910975f672"
      },
      "outputs": [
        {
          "name": "stdout",
          "output_type": "stream",
          "text": [
            "Sisa hutang Anda adalah  5000\n"
          ]
        }
      ],
      "source": [
        "#Pengurangan\n",
        "hutang = 10000\n",
        "bayar = 5000\n",
        "sisaHutang = hutang - bayar\n",
        "print(\"Sisa hutang Anda adalah \", sisaHutang)"
      ]
    },
    {
      "cell_type": "code",
      "execution_count": 3,
      "metadata": {
        "colab": {
          "base_uri": "https://localhost:8080/"
        },
        "id": "zWDW3Vt7mkVx",
        "outputId": "7afdf362-0881-45a0-83c1-1a8ac7d26568"
      },
      "outputs": [
        {
          "name": "stdout",
          "output_type": "stream",
          "text": [
            "120\n"
          ]
        }
      ],
      "source": [
        "#Perkalian\n",
        "panjang = 15\n",
        "lebar = 8\n",
        "luas = panjang * lebar\n",
        "print(luas)"
      ]
    },
    {
      "cell_type": "code",
      "execution_count": 4,
      "metadata": {
        "colab": {
          "base_uri": "https://localhost:8080/"
        },
        "id": "1EIK1p5EmmCa",
        "outputId": "947f27db-444f-4eb7-c830-f7cc729e9854"
      },
      "outputs": [
        {
          "name": "stdout",
          "output_type": "stream",
          "text": [
            "Setiap anak akan mendapatkan bagian kue sebanyak  4.0\n"
          ]
        }
      ],
      "source": [
        "#Pembagian\n",
        "kue = 16\n",
        "anak = 4\n",
        "kuePerAnak = kue / anak\n",
        "print(\"Setiap anak akan mendapatkan bagian kue sebanyak \", kuePerAnak)"
      ]
    },
    {
      "cell_type": "code",
      "execution_count": 5,
      "metadata": {
        "colab": {
          "base_uri": "https://localhost:8080/"
        },
        "id": "S15Ikfx8mnI1",
        "outputId": "887a0655-707f-42f9-9987-9c5e7089e3aa"
      },
      "outputs": [
        {
          "name": "stdout",
          "output_type": "stream",
          "text": [
            "Sisa bagi dari bilangan  14  dan  5  adalah  4\n"
          ]
        }
      ],
      "source": [
        "#Sisa Bagi / Modulus\n",
        "bilangan1 = 14\n",
        "bilangan2 = 5\n",
        "hasil = bilangan1 % bilangan2\n",
        "print(\"Sisa bagi dari bilangan \", bilangan1, \" dan \", bilangan2, \" adalah \", hasil)"
      ]
    },
    {
      "cell_type": "code",
      "execution_count": 6,
      "metadata": {
        "colab": {
          "base_uri": "https://localhost:8080/"
        },
        "id": "oZ0HX31ymp4n",
        "outputId": "1c59f4b5-8f7b-42f1-94c7-c6e0c39fb4b4"
      },
      "outputs": [
        {
          "name": "stdout",
          "output_type": "stream",
          "text": [
            "64\n"
          ]
        }
      ],
      "source": [
        "#Pangkat\n",
        "bilangan3 = 8\n",
        "bilangan4 = 2\n",
        "hasilPangkat = bilangan3 ** bilangan4\n",
        "print(hasilPangkat)\n"
      ]
    },
    {
      "cell_type": "code",
      "execution_count": 7,
      "metadata": {
        "colab": {
          "base_uri": "https://localhost:8080/"
        },
        "id": "EQchgwVKmq0-",
        "outputId": "555efbf0-a295-484a-90b7-63c582a8f9c2"
      },
      "outputs": [
        {
          "name": "stdout",
          "output_type": "stream",
          "text": [
            "3\n"
          ]
        }
      ],
      "source": [
        "#Pembagian Bulat\n",
        "print(10//3)\n",
        "#10 dibagi 3 adalah 3.3333. Karena dibulatkan maka akan menghasilkan nilai 3"
      ]
    }
  ],
  "metadata": {
    "colab": {
      "provenance": []
    },
    "kernelspec": {
      "display_name": "Python 3.10.5 64-bit",
      "language": "python",
      "name": "python3"
    },
    "language_info": {
      "codemirror_mode": {
        "name": "ipython",
        "version": 3
      },
      "file_extension": ".py",
      "mimetype": "text/x-python",
      "name": "python",
      "nbconvert_exporter": "python",
      "pygments_lexer": "ipython3",
      "version": "3.10.5"
    },
    "vscode": {
      "interpreter": {
        "hash": "213524bb45a1aeaf737b1d8c77d7b8db5d425938d9dffc5f4bc6fe6dd3324700"
      }
    }
  },
  "nbformat": 4,
  "nbformat_minor": 0
}
