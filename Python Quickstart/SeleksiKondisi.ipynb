{
 "cells": [
  {
   "attachments": {},
   "cell_type": "markdown",
   "metadata": {},
   "source": [
    "# Seleksi Kondisi"
   ]
  },
  {
   "attachments": {},
   "cell_type": "markdown",
   "metadata": {},
   "source": [
    "### *Bentuk If*"
   ]
  },
  {
   "cell_type": "code",
   "execution_count": 5,
   "metadata": {},
   "outputs": [
    {
     "name": "stdout",
     "output_type": "stream",
     "text": [
      "Selamat Ulang Tahun, Caca!!\n"
     ]
    }
   ],
   "source": [
    "# Bentuk if\n",
    "ultah_caca = \"9 agustus\"\n",
    "tgl_sekarang = \"9 agustus\"\n",
    "\n",
    "if tgl_sekarang == ultah_caca:\n",
    "    print(\"Selamat Ulang Tahun, Caca!!\")"
   ]
  },
  {
   "attachments": {},
   "cell_type": "markdown",
   "metadata": {},
   "source": [
    "### *Bentuk If-Else*"
   ]
  },
  {
   "cell_type": "code",
   "execution_count": 6,
   "metadata": {},
   "outputs": [
    {
     "name": "stdout",
     "output_type": "stream",
     "text": [
      "Semoga Harimu Indah yaa...\n"
     ]
    }
   ],
   "source": [
    "# Bentuk if\n",
    "ultah_caca = \"9 agustus\"\n",
    "tgl_sekarang = \"25 November\"\n",
    "\n",
    "if tgl_sekarang == ultah_caca:\n",
    "    print(\"Selamat Ulang Tahun, Caca!!\")\n",
    "else:\n",
    "    print(\"Semoga Harimu Indah yaa...\")"
   ]
  },
  {
   "attachments": {},
   "cell_type": "markdown",
   "metadata": {},
   "source": [
    "### *Bentuk If-Elif-Else*"
   ]
  },
  {
   "cell_type": "code",
   "execution_count": 7,
   "metadata": {},
   "outputs": [
    {
     "name": "stdout",
     "output_type": "stream",
     "text": [
      "Semoga Harimu Indah yaa...\n"
     ]
    }
   ],
   "source": [
    "# Bentuk if\n",
    "ultah_caca = \"9 agustus\"\n",
    "tgl_sekarang = \"25 November\"\n",
    "\n",
    "if tgl_sekarang == ultah_caca:\n",
    "    print(\"Selamat Ulang Tahun, Caca!!\")\n",
    "elif tgl_sekarang == \"1 Januari\":\n",
    "    print(\"Selamat Tahun Baru, Caca!!\")\n",
    "else:\n",
    "    print(\"Semoga Harimu Indah yaa...\")"
   ]
  },
  {
   "attachments": {},
   "cell_type": "markdown",
   "metadata": {},
   "source": [
    "### *Bentuk Nested If*"
   ]
  },
  {
   "cell_type": "code",
   "execution_count": 9,
   "metadata": {},
   "outputs": [
    {
     "name": "stdout",
     "output_type": "stream",
     "text": [
      "Segera periksakan ke dokter ya!\n",
      "Jangan lupa minum obat\n",
      "Semoga cepat sembuh :)\n"
     ]
    }
   ],
   "source": [
    "kabar_budi = input(\"Hai Budi, Apa Kabar? \")\n",
    "\n",
    "if kabar_budi == \"baik\":\n",
    "    print(\"Aku senang mendengarnya! Tetap jaga kesehatan ya :)\")\n",
    "\n",
    "else:\n",
    "    sakit_parah = input(\"Apakah sakitmu parah? \")\n",
    "\n",
    "    if sakit_parah == \"ya\":\n",
    "        print(\"Segera periksakan ke dokter ya!\")\n",
    "    else:\n",
    "        print(\"Banyak-banyak istrahat yaa!\")\n",
    "\n",
    "    print(\"Jangan lupa minum obat\")\n",
    "    print(\"Semoga cepat sembuh :)\")"
   ]
  }
 ],
 "metadata": {
  "kernelspec": {
   "display_name": "Python 3",
   "language": "python",
   "name": "python3"
  },
  "language_info": {
   "codemirror_mode": {
    "name": "ipython",
    "version": 3
   },
   "file_extension": ".py",
   "mimetype": "text/x-python",
   "name": "python",
   "nbconvert_exporter": "python",
   "pygments_lexer": "ipython3",
   "version": "3.10.5"
  },
  "orig_nbformat": 4,
  "vscode": {
   "interpreter": {
    "hash": "213524bb45a1aeaf737b1d8c77d7b8db5d425938d9dffc5f4bc6fe6dd3324700"
   }
  }
 },
 "nbformat": 4,
 "nbformat_minor": 2
}
