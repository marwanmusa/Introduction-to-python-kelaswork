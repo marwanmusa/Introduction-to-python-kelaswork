{
  "cells": [
    {
      "attachments": {},
      "cell_type": "markdown",
      "metadata": {
        "id": "0b1rJgb4fZCJ"
      },
      "source": [
        "# Python untuk Data Analysis\n"
      ]
    },
    {
      "attachments": {},
      "cell_type": "markdown",
      "metadata": {
        "id": "ZntxzxpwfgAb"
      },
      "source": [
        "## Import Libraries"
      ]
    },
    {
      "cell_type": "code",
      "execution_count": null,
      "metadata": {
        "id": "EznMxjvFfUBX"
      },
      "outputs": [],
      "source": [
        "import pandas as pd\n",
        "import numpy as np\n",
        "import seaborn as sns                       #visualisation\n",
        "import matplotlib.pyplot as plt             #visualisation\n",
        "%matplotlib inline     \n",
        "sns.set(color_codes=True)\n",
        "\n",
        "import warnings\n",
        "warnings.filterwarnings('ignore')"
      ]
    },
    {
      "attachments": {},
      "cell_type": "markdown",
      "metadata": {
        "id": "CUX8mTPBfsLY"
      },
      "source": [
        "## Importing Dataset"
      ]
    },
    {
      "cell_type": "code",
      "execution_count": null,
      "metadata": {
        "colab": {
          "base_uri": "https://localhost:8080/",
          "height": 808
        },
        "id": "ckoFI2Hqfqb0",
        "outputId": "bd5df78a-8271-4fb6-c1c3-0c8196be9450"
      },
      "outputs": [],
      "source": [
        "url = 'https://raw.githubusercontent.com/marwanmusa/dataset/main/data.csv'\n",
        "df = pd.read_csv(url)\n",
        "# To display the top 5 rows \n",
        "df.head(10) "
      ]
    },
    {
      "cell_type": "code",
      "execution_count": null,
      "metadata": {
        "colab": {
          "base_uri": "https://localhost:8080/",
          "height": 461
        },
        "id": "4_oYX41PgB5-",
        "outputId": "1b1cf878-b5a5-4246-8449-58aaeab5d855"
      },
      "outputs": [],
      "source": [
        "df.tail(5)                        \n",
        "# To display the botton 5 rows"
      ]
    },
    {
      "attachments": {},
      "cell_type": "markdown",
      "metadata": {},
      "source": [
        "## Data Wrangling"
      ]
    },
    {
      "attachments": {},
      "cell_type": "markdown",
      "metadata": {
        "id": "3RlF_pZFgGvp"
      },
      "source": [
        "### *Checking Tipe Data*"
      ]
    },
    {
      "cell_type": "code",
      "execution_count": null,
      "metadata": {
        "colab": {
          "base_uri": "https://localhost:8080/"
        },
        "id": "vIKGUAVYgIUW",
        "outputId": "d1a648a8-2fd2-47c5-a1f0-9744c6fb222a"
      },
      "outputs": [],
      "source": [
        "df.dtypes"
      ]
    },
    {
      "attachments": {},
      "cell_type": "markdown",
      "metadata": {
        "id": "T5__DdRogNFn"
      },
      "source": [
        "### *Hapus Kolom yang Irrelevant*"
      ]
    },
    {
      "cell_type": "code",
      "execution_count": null,
      "metadata": {
        "colab": {
          "base_uri": "https://localhost:8080/",
          "height": 372
        },
        "id": "iaOMkiW2gORL",
        "outputId": "d0cbff2d-2d15-4b7c-d989-eab8f4989519"
      },
      "outputs": [],
      "source": [
        "df = df.drop(['Engine Fuel Type', \n",
        "              'Market Category', \n",
        "              'Vehicle Style', \n",
        "              'Popularity', \n",
        "              'Number of Doors', \n",
        "              'Vehicle Size'], axis=1)\n",
        "df.head(5)"
      ]
    },
    {
      "attachments": {},
      "cell_type": "markdown",
      "metadata": {
        "id": "WgeXdezVgjy9"
      },
      "source": [
        "### *Mengubah Nama Kolom*"
      ]
    },
    {
      "cell_type": "code",
      "execution_count": null,
      "metadata": {
        "colab": {
          "base_uri": "https://localhost:8080/",
          "height": 250
        },
        "id": "JLUr08NRgk4S",
        "outputId": "052e15bc-fe56-4a07-e9b3-09cdecfe194c"
      },
      "outputs": [],
      "source": [
        "df = df.rename(columns={\"Engine HP\": \"HP\", \n",
        "                        \"Engine Cylinders\": \"Cylinders\", \n",
        "                        \"Transmission Type\": \"Transmission\", \n",
        "                        \"Driven_Wheels\": \"Drive Mode\",\n",
        "                        \"highway MPG\": \"MPG-H\", \n",
        "                        \"city mpg\": \"MPG-C\", \n",
        "                        \"MSRP\": \"Price\" })\n",
        "df.head(5)"
      ]
    },
    {
      "attachments": {},
      "cell_type": "markdown",
      "metadata": {
        "id": "rWUwHo5jgtyc"
      },
      "source": [
        "### *Menghapus Kolom Duplikat*"
      ]
    },
    {
      "cell_type": "code",
      "execution_count": null,
      "metadata": {
        "colab": {
          "base_uri": "https://localhost:8080/"
        },
        "id": "-DFlPGdEgvXu",
        "outputId": "900801c6-ce81-4d61-eeb3-e1f9a6fb93a5"
      },
      "outputs": [],
      "source": [
        "df.shape"
      ]
    },
    {
      "cell_type": "code",
      "execution_count": null,
      "metadata": {
        "colab": {
          "base_uri": "https://localhost:8080/"
        },
        "id": "5mlsQIZ69Y-H",
        "outputId": "82f7709d-4578-4e7b-ca68-0c8356c44863"
      },
      "outputs": [],
      "source": [
        "df[df.duplicated()]"
      ]
    },
    {
      "cell_type": "code",
      "execution_count": null,
      "metadata": {
        "colab": {
          "base_uri": "https://localhost:8080/"
        },
        "id": "pTNEYyrhhSz4",
        "outputId": "f1b371c3-3e39-43fc-9438-7de1e5e82013"
      },
      "outputs": [],
      "source": [
        "df.count()\n",
        "# Used to count the number of rows"
      ]
    },
    {
      "cell_type": "markdown",
      "metadata": {
        "id": "oEdNT3-Uhbez"
      },
      "source": [
        "So seen above there are 11914 rows and we are removing 989 rows of duplicate data."
      ]
    },
    {
      "cell_type": "code",
      "execution_count": null,
      "metadata": {
        "colab": {
          "base_uri": "https://localhost:8080/"
        },
        "id": "CzuPlAWOhcUo",
        "outputId": "30843d5b-2d73-4650-eee0-fa8991470574"
      },
      "outputs": [],
      "source": [
        "df = df.drop_duplicates()\n",
        "df.count() # after drop duplicate data"
      ]
    },
    {
      "attachments": {},
      "cell_type": "markdown",
      "metadata": {
        "id": "3qzdZjPNhjxV"
      },
      "source": [
        "### *Menghapus Missing Values*"
      ]
    },
    {
      "cell_type": "code",
      "execution_count": null,
      "metadata": {
        "colab": {
          "base_uri": "https://localhost:8080/"
        },
        "id": "pCuYuwwqhk4V",
        "outputId": "0047f1cf-2a0f-4f9b-dbfe-dc5a08be8a79"
      },
      "outputs": [],
      "source": [
        "print(df.isnull().sum())\n",
        "# Checking null values each columns"
      ]
    },
    {
      "cell_type": "code",
      "execution_count": null,
      "metadata": {
        "colab": {
          "base_uri": "https://localhost:8080/"
        },
        "id": "ZqbepnSehyp4",
        "outputId": "18b84164-8955-4fbc-cad1-7a12058851a4"
      },
      "outputs": [],
      "source": [
        "df = df.dropna()    # Dropping the missing values.\n",
        "df.count()"
      ]
    },
    {
      "cell_type": "markdown",
      "metadata": {
        "id": "vUYlihAzh40s"
      },
      "source": [
        "Now we have removed all the rows which contain the Null or N/A values (Cylinders and Horsepower (HP))."
      ]
    },
    {
      "cell_type": "code",
      "execution_count": null,
      "metadata": {
        "colab": {
          "base_uri": "https://localhost:8080/"
        },
        "id": "M9gM46YDh5ai",
        "outputId": "3d37c931-4f7d-4b8b-9241-a19be3025b07"
      },
      "outputs": [],
      "source": [
        "print(df.isnull().sum())   # After dropping the values"
      ]
    },
    {
      "attachments": {},
      "cell_type": "markdown",
      "metadata": {
        "id": "ozn0Ay8Xh9cs"
      },
      "source": [
        "### *Mendeteksi Outliers*"
      ]
    },
    {
      "cell_type": "code",
      "execution_count": null,
      "metadata": {
        "colab": {
          "base_uri": "https://localhost:8080/",
          "height": 303
        },
        "id": "Qw5qsNPqh-i1",
        "outputId": "a72e732f-a5eb-4867-83d7-f5c230a01861"
      },
      "outputs": [],
      "source": [
        "sns.boxplot(x=df['Price'])"
      ]
    },
    {
      "cell_type": "code",
      "execution_count": null,
      "metadata": {
        "colab": {
          "base_uri": "https://localhost:8080/",
          "height": 303
        },
        "id": "sH2Or341iHko",
        "outputId": "ba4f8e55-60c9-4cf0-9dca-b8a2008a7b49"
      },
      "outputs": [],
      "source": [
        "sns.boxplot(x=df['HP'])"
      ]
    },
    {
      "cell_type": "code",
      "execution_count": null,
      "metadata": {
        "colab": {
          "base_uri": "https://localhost:8080/",
          "height": 303
        },
        "id": "8FJdjmsXiL1K",
        "outputId": "bf4e0974-6f7f-43b2-c859-8aa87e1c46ed"
      },
      "outputs": [],
      "source": [
        "sns.boxplot(x=df['Cylinders'])"
      ]
    },
    {
      "cell_type": "code",
      "execution_count": null,
      "metadata": {
        "colab": {
          "base_uri": "https://localhost:8080/"
        },
        "id": "ilT6QTy-iQeg",
        "outputId": "06703685-6b00-4a16-de94-3e7ad58e2681"
      },
      "outputs": [],
      "source": [
        "Q1 = df.quantile(0.25)\n",
        "Q3 = df.quantile(0.75)\n",
        "IQR = Q3 - Q1\n",
        "print(IQR)"
      ]
    },
    {
      "cell_type": "code",
      "execution_count": null,
      "metadata": {
        "colab": {
          "base_uri": "https://localhost:8080/"
        },
        "id": "lK0ISYKEipZ8",
        "outputId": "a2dccb3c-b128-48e1-eb0a-164ff9258084"
      },
      "outputs": [],
      "source": [
        "df = df[~((df < (Q1 - 1.5 * IQR)) |(df > (Q3 + 1.5 * IQR))).any(axis=1)]\n",
        "df.shape"
      ]
    },
    {
      "attachments": {},
      "cell_type": "markdown",
      "metadata": {},
      "source": [
        "## Exploratory Data Analysis"
      ]
    },
    {
      "attachments": {},
      "cell_type": "markdown",
      "metadata": {
        "id": "fM4c4R-0iwnU"
      },
      "source": [
        "### *Plot Korelasi antar Feature*"
      ]
    },
    {
      "cell_type": "markdown",
      "metadata": {
        "id": "yOP9HVSui58_"
      },
      "source": [
        "**Histogram**"
      ]
    },
    {
      "cell_type": "code",
      "execution_count": null,
      "metadata": {
        "colab": {
          "base_uri": "https://localhost:8080/",
          "height": 429
        },
        "id": "4A2GJHavi0w1",
        "outputId": "7f15a7d3-ce58-4cc3-cb4a-6b37abe1e53e"
      },
      "outputs": [],
      "source": [
        "# untuk frequency data, gunakan bar chart\n",
        "df.Make.value_counts().nlargest(40).plot(kind='bar', figsize=(10,5))\n",
        "plt.title(\"Number of cars by make\")\n",
        "plt.ylabel('Number of cars')\n",
        "plt.xlabel('Make');"
      ]
    },
    {
      "cell_type": "markdown",
      "metadata": {
        "id": "vCBS1ItRi_5F"
      },
      "source": [
        "**Heat Maps**"
      ]
    },
    {
      "cell_type": "code",
      "execution_count": null,
      "metadata": {
        "colab": {
          "base_uri": "https://localhost:8080/",
          "height": 546
        },
        "id": "3x09YS1jjC6R",
        "outputId": "82e0c8b9-7de5-430d-98a2-67ffc77283c8"
      },
      "outputs": [],
      "source": [
        "# untuk analisis korelasi seluruh variabel gunakan heatmaps\n",
        "plt.figure(figsize=(10,5))\n",
        "c= df.corr()\n",
        "sns.heatmap(c,cmap=\"BrBG\",annot=True)\n",
        "c"
      ]
    },
    {
      "cell_type": "markdown",
      "metadata": {
        "id": "PmAGeYUDjLHF"
      },
      "source": [
        "**Scatterplot**"
      ]
    },
    {
      "cell_type": "code",
      "execution_count": null,
      "metadata": {
        "colab": {
          "base_uri": "https://localhost:8080/",
          "height": 394
        },
        "id": "UJ_DCv2wjMrM",
        "outputId": "c5c93083-c875-4e96-a5c6-d401b0b93857"
      },
      "outputs": [],
      "source": [
        "# untuk korelasi antara dua variabel gunakan scatterplot\n",
        "fig, ax = plt.subplots(figsize=(10,6))\n",
        "ax.scatter(df['HP'], df['Price'])\n",
        "ax.set_xlabel('HP')\n",
        "ax.set_ylabel('Price')\n",
        "plt.show()"
      ]
    },
    {
      "cell_type": "markdown",
      "metadata": {
        "id": "D85v8dWLl1BH"
      },
      "source": [
        "## 10. Grouping Data"
      ]
    },
    {
      "cell_type": "markdown",
      "metadata": {
        "id": "6uSZPjxRl8SB"
      },
      "source": [
        "### *Categorical Data*"
      ]
    },
    {
      "cell_type": "code",
      "execution_count": null,
      "metadata": {
        "colab": {
          "base_uri": "https://localhost:8080/",
          "height": 424
        },
        "id": "oWMGzPHol5Qo",
        "outputId": "ec5e915a-494f-4a60-ff0c-0e7480e83709"
      },
      "outputs": [],
      "source": [
        "# Select data group categorical only\n",
        "df.select_dtypes(include=[object])"
      ]
    },
    {
      "cell_type": "markdown",
      "metadata": {
        "id": "kjEF4ke4muXU"
      },
      "source": [
        "### *Numerical Data*"
      ]
    },
    {
      "cell_type": "code",
      "execution_count": null,
      "metadata": {
        "colab": {
          "base_uri": "https://localhost:8080/",
          "height": 424
        },
        "id": "RN-nkBtPmxNq",
        "outputId": "8ba2383f-91aa-4f21-b037-fb5d235ba832"
      },
      "outputs": [],
      "source": [
        "# Select data group numerical only\n",
        "df.select_dtypes(exclude=[object])"
      ]
    },
    {
      "cell_type": "markdown",
      "metadata": {
        "id": "Yz4VWjuNlRzF"
      },
      "source": [
        "## 11. Descriptive statistics using `describe()`"
      ]
    },
    {
      "cell_type": "code",
      "execution_count": null,
      "metadata": {
        "colab": {
          "base_uri": "https://localhost:8080/",
          "height": 300
        },
        "id": "uEQqiiyMlIcB",
        "outputId": "3bc5e50b-67e3-4c11-ac5c-211e0ba32b55"
      },
      "outputs": [],
      "source": [
        "df.describe()"
      ]
    },
    {
      "cell_type": "markdown",
      "metadata": {
        "id": "BfffRs83pDhD"
      },
      "source": [
        "### *Data Distribution*"
      ]
    },
    {
      "cell_type": "code",
      "execution_count": null,
      "metadata": {
        "colab": {
          "base_uri": "https://localhost:8080/",
          "height": 666
        },
        "id": "OklOLMLNo47A",
        "outputId": "a0b61b4f-39e5-4a23-ef63-2622e2106205"
      },
      "outputs": [],
      "source": [
        "# Numerical columns as a variable\n",
        "data_num_columns = df.select_dtypes(exclude=['object'])\n",
        "\n",
        "# Visualizing data distribution with distplot \n",
        "x = plt.figure(figsize=(18, 16))\n",
        "\n",
        "for i, j in enumerate(data_num_columns): # enumerate i as index and j as data in data_num_columns\n",
        "    x.add_subplot(3, 2, i+1)\n",
        "    sns.distplot(df[j], bins=15)\n",
        "    x.tight_layout()\n",
        "\n",
        "plt.tight_layout()"
      ]
    },
    {
      "cell_type": "code",
      "execution_count": null,
      "metadata": {},
      "outputs": [],
      "source": [
        "for i, j in enumerate(data_num_columns):\n",
        "    print(i, j)"
      ]
    }
  ],
  "metadata": {
    "colab": {
      "provenance": []
    },
    "kernelspec": {
      "display_name": "Python 3",
      "language": "python",
      "name": "python3"
    },
    "language_info": {
      "codemirror_mode": {
        "name": "ipython",
        "version": 3
      },
      "file_extension": ".py",
      "mimetype": "text/x-python",
      "name": "python",
      "nbconvert_exporter": "python",
      "pygments_lexer": "ipython3",
      "version": "3.10.5"
    },
    "vscode": {
      "interpreter": {
        "hash": "213524bb45a1aeaf737b1d8c77d7b8db5d425938d9dffc5f4bc6fe6dd3324700"
      }
    }
  },
  "nbformat": 4,
  "nbformat_minor": 0
}
