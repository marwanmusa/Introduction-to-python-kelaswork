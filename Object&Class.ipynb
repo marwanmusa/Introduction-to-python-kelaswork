{
 "cells": [
  {
   "cell_type": "markdown",
   "metadata": {},
   "source": [
    "## Membuat Class Python\n",
    "Statement class digunakan untuk membuat definisi kelas baru. Nama kelas segera mengikuti kelas kata kunci diikuti oleh titik dua sebagai berikut.\n",
    "\n",
    "```python\n",
    "class ClassName: 'Optional class documentation string' class_suite\n",
    "```\n",
    "\n",
    "Dibawah ini adalah contoh cara membuat class dan penggunaanya :"
   ]
  },
  {
   "cell_type": "code",
   "execution_count": 1,
   "metadata": {},
   "outputs": [],
   "source": [
    "class Employee:\n",
    "    'Common base class for all employees'\n",
    "    empCount = 0\n",
    "\n",
    "    def __init__(self, name, salary):\n",
    "        self.name = name\n",
    "        self.salary = salary\n",
    "        Employee.empCount += 1\n",
    "\n",
    "    def displayCount(self):\n",
    "        print(\"Total Employee %d\" % Employee.empCount)\n",
    "\n",
    "    def displayEmployee(self):\n",
    "        print(\"Name : \", self.name, \", Salary: \", self.salary)"
   ]
  },
  {
   "cell_type": "markdown",
   "metadata": {},
   "source": [
    "## Membuat Instance Objects\n",
    "Untuk membuat instances kelas, kita memanggil class menggunakan nama class dan meneruskan argumen apa pun yang metode `init` terima."
   ]
  },
  {
   "cell_type": "code",
   "execution_count": 2,
   "metadata": {},
   "outputs": [],
   "source": [
    "# Create first object di Employee class\n",
    "emp1 = Employee(\"Zara\", 2000)\n",
    "\n",
    "# Create second object di Employee class\n",
    "emp2 = Employee(\"Manni\", 5000)"
   ]
  },
  {
   "cell_type": "markdown",
   "metadata": {},
   "source": [
    "## Mengakses Atribut\n",
    "Anda mengakses atribut objek menggunakan dot operator dengan objek. Variabel kelas akan diakses dengan menggunakan nama kelas sebagai berikut :"
   ]
  },
  {
   "cell_type": "code",
   "execution_count": 3,
   "metadata": {},
   "outputs": [
    {
     "name": "stdout",
     "output_type": "stream",
     "text": [
      "Name :  Zara , Salary:  2000\n",
      "Name :  Manni , Salary:  5000\n",
      "Total Employee 2\n"
     ]
    }
   ],
   "source": [
    "emp1.displayEmployee()\n",
    "emp2.displayEmployee()\n",
    "print (\"Total Employee %d\" % Employee.empCount)"
   ]
  }
 ],
 "metadata": {
  "kernelspec": {
   "display_name": "Python 3.10.5 64-bit",
   "language": "python",
   "name": "python3"
  },
  "language_info": {
   "codemirror_mode": {
    "name": "ipython",
    "version": 3
   },
   "file_extension": ".py",
   "mimetype": "text/x-python",
   "name": "python",
   "nbconvert_exporter": "python",
   "pygments_lexer": "ipython3",
   "version": "3.10.5"
  },
  "orig_nbformat": 4,
  "vscode": {
   "interpreter": {
    "hash": "213524bb45a1aeaf737b1d8c77d7b8db5d425938d9dffc5f4bc6fe6dd3324700"
   }
  }
 },
 "nbformat": 4,
 "nbformat_minor": 2
}
