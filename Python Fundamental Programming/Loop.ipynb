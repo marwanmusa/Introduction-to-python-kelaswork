{
 "cells": [
  {
   "attachments": {},
   "cell_type": "markdown",
   "metadata": {},
   "source": [
    "# Loop"
   ]
  },
  {
   "attachments": {},
   "cell_type": "markdown",
   "metadata": {},
   "source": [
    "### *While Loop*"
   ]
  },
  {
   "cell_type": "code",
   "execution_count": 6,
   "metadata": {},
   "outputs": [
    {
     "name": "stdout",
     "output_type": "stream",
     "text": [
      "Angka :  0\n",
      "Angka :  1\n",
      "Angka :  2\n",
      "Angka :  3\n",
      "Angka :  4\n",
      "Angka :  5\n",
      "Angka :  6\n",
      "Selesai!\n"
     ]
    }
   ],
   "source": [
    "# Penggunaan while loop\n",
    "angka = 0\n",
    "while (angka < 7) :\n",
    "    print('Angka : ', angka)\n",
    "    angka = angka + 1\n",
    "\n",
    "print(\"Selesai!\")"
   ]
  },
  {
   "attachments": {},
   "cell_type": "markdown",
   "metadata": {},
   "source": [
    "### *For Loop*"
   ]
  },
  {
   "cell_type": "code",
   "execution_count": 7,
   "metadata": {},
   "outputs": [
    {
     "name": "stdout",
     "output_type": "stream",
     "text": [
      "1\n",
      "2\n",
      "3\n",
      "4\n",
      "5\n"
     ]
    }
   ],
   "source": [
    "# Penggunaan for loop\n",
    "list_angka = [1, 2, 3, 4, 5]\n",
    "for angka in list_angka:\n",
    "    print(angka)"
   ]
  },
  {
   "cell_type": "code",
   "execution_count": 8,
   "metadata": {},
   "outputs": [
    {
     "name": "stdout",
     "output_type": "stream",
     "text": [
      "Saya suka makan apel\n",
      "Saya suka makan mangga\n",
      "Saya suka makan jeruk\n"
     ]
    }
   ],
   "source": [
    "list_buah = ['apel', 'mangga', 'jeruk']\n",
    "for buah in list_buah:\n",
    "    print('Saya suka makan', buah)"
   ]
  },
  {
   "attachments": {},
   "cell_type": "markdown",
   "metadata": {},
   "source": [
    "### *Nested Loop*"
   ]
  },
  {
   "cell_type": "code",
   "execution_count": 9,
   "metadata": {},
   "outputs": [
    {
     "name": "stdout",
     "output_type": "stream",
     "text": [
      "1 9\n",
      "2 8\n",
      "3 7\n",
      "4 6\n",
      "5 5\n",
      "6 4\n",
      "7 3\n",
      "8 2\n",
      "9 1\n"
     ]
    }
   ],
   "source": [
    "for i in range(0, 10):\n",
    "    for j in range(0, 10):\n",
    "        if (i + j) == 10 :\n",
    "            print(i, j)"
   ]
  }
 ],
 "metadata": {
  "kernelspec": {
   "display_name": "Python 3",
   "language": "python",
   "name": "python3"
  },
  "language_info": {
   "codemirror_mode": {
    "name": "ipython",
    "version": 3
   },
   "file_extension": ".py",
   "mimetype": "text/x-python",
   "name": "python",
   "nbconvert_exporter": "python",
   "pygments_lexer": "ipython3",
   "version": "3.10.5"
  },
  "orig_nbformat": 4,
  "vscode": {
   "interpreter": {
    "hash": "213524bb45a1aeaf737b1d8c77d7b8db5d425938d9dffc5f4bc6fe6dd3324700"
   }
  }
 },
 "nbformat": 4,
 "nbformat_minor": 2
}
