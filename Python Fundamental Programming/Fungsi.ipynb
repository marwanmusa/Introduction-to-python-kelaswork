{
 "cells": [
  {
   "attachments": {},
   "cell_type": "markdown",
   "metadata": {},
   "source": [
    "## Fungsi"
   ]
  },
  {
   "cell_type": "code",
   "execution_count": 13,
   "metadata": {},
   "outputs": [],
   "source": [
    "def halo():\n",
    "  print('Halo python! Halo dunia!')"
   ]
  },
  {
   "cell_type": "markdown",
   "metadata": {},
   "source": [
    "## Memanggil Fungsi"
   ]
  },
  {
   "cell_type": "code",
   "execution_count": 14,
   "metadata": {},
   "outputs": [
    {
     "name": "stdout",
     "output_type": "stream",
     "text": [
      "Halo python! Halo dunia!\n"
     ]
    }
   ],
   "source": [
    "halo()"
   ]
  },
  {
   "cell_type": "code",
   "execution_count": 15,
   "metadata": {},
   "outputs": [
    {
     "name": "stdout",
     "output_type": "stream",
     "text": [
      "Halo python! Halo dunia!\n",
      "Halo python! Halo dunia!\n",
      "Halo python! Halo dunia!\n"
     ]
    }
   ],
   "source": [
    "halo()\n",
    "halo()\n",
    "halo()"
   ]
  },
  {
   "cell_type": "markdown",
   "metadata": {},
   "source": [
    "## Fungsi dengan Argumen atau Parameter"
   ]
  },
  {
   "attachments": {},
   "cell_type": "markdown",
   "metadata": {},
   "source": [
    "```\n",
    "Halo Sal, selamat datang!\n",
    "Halo Der, selamat datang!\n",
    "Halo Kim, selamat datang!\n",
    "Halo Fay, selamat datang!\n",
    "```"
   ]
  },
  {
   "cell_type": "code",
   "execution_count": 16,
   "metadata": {},
   "outputs": [
    {
     "name": "stdout",
     "output_type": "stream",
     "text": [
      "Halo Sal, selamat datang!\n",
      "Halo Der, selamat datang!\n",
      "Halo Kim, selamat datang!\n",
      "Halo Fay, selamat datang!\n"
     ]
    }
   ],
   "source": [
    "print('Halo Sal, selamat datang!')\n",
    "print('Halo Der, selamat datang!')\n",
    "print('Halo Kim, selamat datang!')\n",
    "print('Halo Fay, selamat datang!')"
   ]
  },
  {
   "cell_type": "code",
   "execution_count": 19,
   "metadata": {},
   "outputs": [
    {
     "name": "stdout",
     "output_type": "stream",
     "text": [
      "Halo Sal, selamat datang!\n",
      "Halo Der, selamat datang!\n",
      "Halo Kim, selamat datang!\n",
      "Halo Fay, selamat datang!\n"
     ]
    }
   ],
   "source": [
    "def selamat_datang(nama):\n",
    "  print(f'Halo {nama}, selamat datang!')\n",
    "\n",
    "selamat_datang('Sal')\n",
    "selamat_datang('Der')\n",
    "selamat_datang('Kim')\n",
    "selamat_datang('Fay')"
   ]
  },
  {
   "cell_type": "markdown",
   "metadata": {},
   "source": [
    "## Parameter Wajib"
   ]
  },
  {
   "cell_type": "code",
   "execution_count": 20,
   "metadata": {},
   "outputs": [],
   "source": [
    "def perkenalan(nama, asal):\n",
    "  print(f\"Perkenalkan saya {nama} dari {asal}\")"
   ]
  },
  {
   "cell_type": "code",
   "execution_count": 21,
   "metadata": {},
   "outputs": [
    {
     "name": "stdout",
     "output_type": "stream",
     "text": [
      "Perkenalkan saya Renza Ilhami dari Jawa Timur\n"
     ]
    }
   ],
   "source": [
    "perkenalan(\"Renza Ilhami\", \"Jawa Timur\")"
   ]
  },
  {
   "cell_type": "markdown",
   "metadata": {},
   "source": [
    "## Parameter Opsional (atau Default)"
   ]
  },
  {
   "cell_type": "code",
   "execution_count": 26,
   "metadata": {},
   "outputs": [],
   "source": [
    "def suhu_udara(daerah, derajat, satuan = 'celcius'):\n",
    "  print(f\"Suhu di {daerah} adalah {derajat} derajat {satuan}\")"
   ]
  },
  {
   "cell_type": "code",
   "execution_count": 28,
   "metadata": {},
   "outputs": [
    {
     "name": "stdout",
     "output_type": "stream",
     "text": [
      "Suhu di Surabaya adalah 30 derajat celcius\n",
      "Suhu di Surabaya adalah 86 derajat Fahrenheit\n"
     ]
    }
   ],
   "source": [
    "suhu_udara(\"Surabaya\", 30)\n",
    "suhu_udara(\"Surabaya\", 86, 'Fahrenheit')"
   ]
  },
  {
   "cell_type": "markdown",
   "metadata": {},
   "source": [
    "## Fungsi Dengan Parameter Tidak Berurut"
   ]
  },
  {
   "cell_type": "code",
   "execution_count": 29,
   "metadata": {},
   "outputs": [],
   "source": [
    "def suhu_udara (daerah, derajat = 30, satuan = 'celcius'):\n",
    "  print(f\"Suhu di {daerah} adalah {derajat} {satuan}\")"
   ]
  },
  {
   "cell_type": "code",
   "execution_count": 30,
   "metadata": {},
   "outputs": [
    {
     "name": "stdout",
     "output_type": "stream",
     "text": [
      "Suhu di Jakarta adalah 30 celcius\n"
     ]
    }
   ],
   "source": [
    "suhu_udara('Jakarta')"
   ]
  },
  {
   "cell_type": "code",
   "execution_count": 31,
   "metadata": {},
   "outputs": [
    {
     "name": "stdout",
     "output_type": "stream",
     "text": [
      "Suhu di Jakarta adalah fahrenheit celcius\n"
     ]
    }
   ],
   "source": [
    "suhu_udara('Jakarta', 'fahrenheit')"
   ]
  },
  {
   "cell_type": "code",
   "execution_count": 32,
   "metadata": {},
   "outputs": [
    {
     "name": "stdout",
     "output_type": "stream",
     "text": [
      "Suhu di Jakarta adalah 30 fahrenheit\n"
     ]
    }
   ],
   "source": [
    "suhu_udara('Jakarta', satuan = 'fahrenheit')"
   ]
  },
  {
   "cell_type": "markdown",
   "metadata": {},
   "source": [
    "## Fungsi yang Mengembalikan Nilai"
   ]
  },
  {
   "cell_type": "code",
   "execution_count": 1,
   "metadata": {},
   "outputs": [],
   "source": [
    "def luas_persegi(sisi):\n",
    "  luas = sisi * sisi\n",
    "  return luas"
   ]
  },
  {
   "cell_type": "code",
   "execution_count": 33,
   "metadata": {},
   "outputs": [
    {
     "name": "stdout",
     "output_type": "stream",
     "text": [
      "Luas persegi dengan sisi 4 adalah: 16\n",
      "Total luas persegi besar dan kecil adalah: 12500\n"
     ]
    }
   ],
   "source": [
    "# tidak menghasilkan output apa pun\n",
    "luas_persegi(10)\n",
    "\n",
    "# menghasilkan output\n",
    "print('Luas persegi dengan sisi 4 adalah:', luas_persegi(4))\n",
    "\n",
    "# kita juga bisa simpan di dalam variabel\n",
    "persegi_besar = luas_persegi(100)\n",
    "persegi_kecil = luas_persegi(50)\n",
    "\n",
    "print('Total luas persegi besar dan kecil adalah:', persegi_besar + persegi_kecil)"
   ]
  },
  {
   "attachments": {},
   "cell_type": "markdown",
   "metadata": {},
   "source": [
    "## Lebih dari 1 return"
   ]
  },
  {
   "cell_type": "code",
   "execution_count": 34,
   "metadata": {},
   "outputs": [],
   "source": [
    "def persentase(total, jumlah):\n",
    "  if (total >= 0 and total <= jumlah):\n",
    "    return total / jumlah * 100\n",
    "\n",
    "  return False"
   ]
  },
  {
   "cell_type": "code",
   "execution_count": 35,
   "metadata": {},
   "outputs": [
    {
     "name": "stdout",
     "output_type": "stream",
     "text": [
      "50.0\n",
      "False\n"
     ]
    }
   ],
   "source": [
    "# output 50\n",
    "print(persentase(30, 60))\n",
    "\n",
    "# output False\n",
    "print(persentase(100, 60))"
   ]
  },
  {
   "cell_type": "markdown",
   "metadata": {},
   "source": [
    "## Ruang Lingkup (dan Siklus Hidup) Variabel Pada Fungsi"
   ]
  },
  {
   "cell_type": "code",
   "execution_count": 36,
   "metadata": {},
   "outputs": [
    {
     "name": "stdout",
     "output_type": "stream",
     "text": [
      "Lamongan\n"
     ]
    }
   ],
   "source": [
    "kota = 'Lamongan' # Variabel global\n",
    "\n",
    "def halo() :\n",
    "  print(kota)\n",
    "\n",
    "halo()"
   ]
  },
  {
   "cell_type": "code",
   "execution_count": 40,
   "metadata": {},
   "outputs": [
    {
     "name": "stdout",
     "output_type": "stream",
     "text": [
      "Soto Lamongan enak\n"
     ]
    }
   ],
   "source": [
    "def makanan_enak():\n",
    "    print(f'Soto {kota} enak')\n",
    "\n",
    "makanan_enak()"
   ]
  },
  {
   "cell_type": "code",
   "execution_count": 41,
   "metadata": {},
   "outputs": [],
   "source": [
    "kota = 'Lamongan' # Variabel global\n",
    "\n",
    "def halo() :\n",
    "    Pulau = 'Jawa' # variable lokal\n",
    "    print(Pulau)\n",
    "    print(kota)"
   ]
  },
  {
   "cell_type": "code",
   "execution_count": 42,
   "metadata": {},
   "outputs": [
    {
     "name": "stdout",
     "output_type": "stream",
     "text": [
      "[print secara langsung] Lamongan\n"
     ]
    }
   ],
   "source": [
    "print('[print secara langsung]', kota)"
   ]
  },
  {
   "cell_type": "code",
   "execution_count": 43,
   "metadata": {},
   "outputs": [
    {
     "name": "stdout",
     "output_type": "stream",
     "text": [
      "Jawa\n",
      "Lamongan\n"
     ]
    }
   ],
   "source": [
    "halo()"
   ]
  },
  {
   "cell_type": "code",
   "execution_count": 44,
   "metadata": {},
   "outputs": [
    {
     "ename": "NameError",
     "evalue": "name 'Pulau' is not defined",
     "output_type": "error",
     "traceback": [
      "\u001b[1;31m---------------------------------------------------------------------------\u001b[0m",
      "\u001b[1;31mNameError\u001b[0m                                 Traceback (most recent call last)",
      "\u001b[1;32me:\\Project with Kelas.work\\Kelas.Work - Course Material\\Introduction-to-python-kelaswork\\Python Fundamental Programming\\Fungsi.ipynb Cell 33\u001b[0m in \u001b[0;36m<cell line: 1>\u001b[1;34m()\u001b[0m\n\u001b[1;32m----> <a href='vscode-notebook-cell:/e%3A/Project%20with%20Kelas.work/Kelas.Work%20-%20Course%20Material/Introduction-to-python-kelaswork/Python%20Fundamental%20Programming/Fungsi.ipynb#X46sZmlsZQ%3D%3D?line=0'>1</a>\u001b[0m \u001b[39mprint\u001b[39m(Pulau)\n",
      "\u001b[1;31mNameError\u001b[0m: name 'Pulau' is not defined"
     ]
    }
   ],
   "source": [
    "print(Pulau)"
   ]
  },
  {
   "cell_type": "code",
   "execution_count": 45,
   "metadata": {},
   "outputs": [
    {
     "name": "stdout",
     "output_type": "stream",
     "text": [
      "Lamongan\n"
     ]
    }
   ],
   "source": [
    "print(kota)"
   ]
  }
 ],
 "metadata": {
  "kernelspec": {
   "display_name": "Python 3.10.5 64-bit",
   "language": "python",
   "name": "python3"
  },
  "language_info": {
   "codemirror_mode": {
    "name": "ipython",
    "version": 3
   },
   "file_extension": ".py",
   "mimetype": "text/x-python",
   "name": "python",
   "nbconvert_exporter": "python",
   "pygments_lexer": "ipython3",
   "version": "3.10.5 (tags/v3.10.5:f377153, Jun  6 2022, 16:14:13) [MSC v.1929 64 bit (AMD64)]"
  },
  "orig_nbformat": 4,
  "vscode": {
   "interpreter": {
    "hash": "213524bb45a1aeaf737b1d8c77d7b8db5d425938d9dffc5f4bc6fe6dd3324700"
   }
  }
 },
 "nbformat": 4,
 "nbformat_minor": 2
}
