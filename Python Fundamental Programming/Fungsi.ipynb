{
 "cells": [
  {
   "cell_type": "markdown",
   "metadata": {},
   "source": [
    "## Contoh sebuah fungsi sederhana dengan nama halo_dunia():"
   ]
  },
  {
   "cell_type": "code",
   "execution_count": 5,
   "metadata": {},
   "outputs": [],
   "source": [
    "def halo():\n",
    "  print('Halo python! Halo dunia!')"
   ]
  },
  {
   "cell_type": "markdown",
   "metadata": {},
   "source": [
    "## Memanggil Fungsi"
   ]
  },
  {
   "cell_type": "code",
   "execution_count": 6,
   "metadata": {},
   "outputs": [
    {
     "name": "stdout",
     "output_type": "stream",
     "text": [
      "Halo python! Halo dunia!\n"
     ]
    }
   ],
   "source": [
    "halo_dunia()"
   ]
  },
  {
   "cell_type": "code",
   "execution_count": 7,
   "metadata": {},
   "outputs": [
    {
     "name": "stdout",
     "output_type": "stream",
     "text": [
      "Halo python! Halo dunia!\n",
      "Halo python! Halo dunia!\n",
      "Halo python! Halo dunia!\n"
     ]
    }
   ],
   "source": [
    "halo_dunia()\n",
    "halo_dunia()\n",
    "halo_dunia()"
   ]
  },
  {
   "cell_type": "markdown",
   "metadata": {},
   "source": [
    "## Fungsi dengan Argumen atau Parameter"
   ]
  },
  {
   "cell_type": "markdown",
   "metadata": {},
   "source": [
    "```\n",
    "Halo Nurul, selamat datang!\n",
    "Halo Lendis, selamat datang!\n",
    "Halo Fabri, selamat datang!\n",
    "Halo Isa, selamat datang!\n",
    "```"
   ]
  },
  {
   "cell_type": "code",
   "execution_count": 8,
   "metadata": {},
   "outputs": [
    {
     "name": "stdout",
     "output_type": "stream",
     "text": [
      "Halo Nurul, selamat datang!\n",
      "Halo Lendis, selamat datang!\n",
      "Halo Fabri, selamat datang!\n",
      "Halo Isa, selamat datang!\n"
     ]
    }
   ],
   "source": [
    "print('Halo Nurul, selamat datang!')\n",
    "print('Halo Lendis, selamat datang!')\n",
    "print('Halo Fabri, selamat datang!')\n",
    "print('Halo Isa, selamat datang!')"
   ]
  },
  {
   "cell_type": "code",
   "execution_count": 9,
   "metadata": {},
   "outputs": [
    {
     "name": "stdout",
     "output_type": "stream",
     "text": [
      "Halo Nurul, selamat datang!\n",
      "Halo Lendis, selamat datang!\n",
      "Halo Fabri, selamat datang!\n",
      "Halo isa, selamat datang!\n"
     ]
    }
   ],
   "source": [
    "def selamat_datang(nama):\n",
    "  print(f'Halo {nama}, selamat datang!')\n",
    "\n",
    "selamat_datang('Nurul')\n",
    "selamat_datang('Lendis')\n",
    "selamat_datang('Fabri')\n",
    "selamat_datang('isa')"
   ]
  },
  {
   "cell_type": "markdown",
   "metadata": {},
   "source": [
    "## Parameter Wajib"
   ]
  },
  {
   "cell_type": "markdown",
   "metadata": {},
   "source": [
    "Parameter di dalam python bisa lebih dari satu, bisa wajib semua (harus diisi), dan bisa juga bersifat opsional.\n",
    "\n",
    "Perhatikan contoh fungsi berikut:"
   ]
  },
  {
   "cell_type": "code",
   "execution_count": 10,
   "metadata": {},
   "outputs": [],
   "source": [
    "def perkenalan(nama, asal):\n",
    "  print(f\"Perkenalkan saya {nama} dari {asal}\")"
   ]
  },
  {
   "cell_type": "markdown",
   "metadata": {},
   "source": [
    "Jika dipanggil:"
   ]
  },
  {
   "cell_type": "code",
   "execution_count": 11,
   "metadata": {},
   "outputs": [
    {
     "name": "stdout",
     "output_type": "stream",
     "text": [
      "Perkenalkan saya Renza Ilhami dari Jawa Timur\n"
     ]
    }
   ],
   "source": [
    "perkenalan(\"Renza Ilhami\", \"Jawa Timur\")"
   ]
  },
  {
   "cell_type": "markdown",
   "metadata": {},
   "source": [
    "## Parameter Opsional (atau Default)"
   ]
  },
  {
   "cell_type": "code",
   "execution_count": 12,
   "metadata": {},
   "outputs": [],
   "source": [
    "def suhu_udara(daerah, derajat, satuan = 'celcius'):\n",
    "  print(f\"Suhu di {daerah} adalah {derajat} {satuan}\")"
   ]
  },
  {
   "cell_type": "markdown",
   "metadata": {},
   "source": [
    "Pada fungsi suhu_udara() di atas, kita mendefinisikan 3 buah parameter:\n",
    "\n",
    "- `daerah`\n",
    "- `derajat`\n",
    "- `suhu = 'celcius'`"
   ]
  },
  {
   "cell_type": "markdown",
   "metadata": {},
   "source": [
    "Dua parameter pertama adalah bersifat wajib dan harus diisi, sedangkan parameter ketiga tidak wajib. Jika tidak kita isi, maka nilai default-nya adalah “celcius”.\n",
    "\n",
    "Sekarang, kita coba panggil fungsi tersebut dengan 2 cara:"
   ]
  },
  {
   "cell_type": "code",
   "execution_count": 13,
   "metadata": {},
   "outputs": [
    {
     "name": "stdout",
     "output_type": "stream",
     "text": [
      "Suhu di Surabaya adalah 30 celcius\n",
      "Suhu di Surabaya adalah 86 Fahrenheit\n"
     ]
    }
   ],
   "source": [
    "suhu_udara(\"Surabaya\", 30)\n",
    "suhu_udara(\"Surabaya\", 86, 'Fahrenheit')"
   ]
  },
  {
   "cell_type": "markdown",
   "metadata": {},
   "source": [
    "## Fungsi Dengan Parameter Tidak Berurut"
   ]
  },
  {
   "cell_type": "code",
   "execution_count": 14,
   "metadata": {},
   "outputs": [],
   "source": [
    "def suhu_udara (daerah, derajat = 30, satuan = 'celcius'):\n",
    "  print(f\"Suhu di {daerah} adalah {derajat} {satuan}\")"
   ]
  },
  {
   "cell_type": "code",
   "execution_count": 15,
   "metadata": {},
   "outputs": [
    {
     "name": "stdout",
     "output_type": "stream",
     "text": [
      "Suhu di Jakarta adalah fahrenheit celcius\n"
     ]
    }
   ],
   "source": [
    "suhu_udara('Jakarta', 'fahrenheit')"
   ]
  },
  {
   "cell_type": "code",
   "execution_count": 16,
   "metadata": {},
   "outputs": [
    {
     "name": "stdout",
     "output_type": "stream",
     "text": [
      "Suhu di Jakarta adalah fahrenheit celcius\n",
      "Suhu di Jakarta adalah 30 fahrenheit\n"
     ]
    }
   ],
   "source": [
    "suhu_udara('Jakarta', 'fahrenheit')\n",
    "suhu_udara('Jakarta', satuan = 'fahrenheit')"
   ]
  },
  {
   "cell_type": "markdown",
   "metadata": {},
   "source": [
    "## Fungsi yang Mengembalikan Nilai"
   ]
  },
  {
   "cell_type": "markdown",
   "metadata": {},
   "source": [
    "Jenis fungsi yang berikutnya adalah berkaitan dengan nilai kembalian.\n",
    "\n",
    "Ditinjau dari segi pengembalian nilai, fungsi **terbagi menjadi 2**:\n",
    "\n",
    "Fungsi yang tidak mengembalikan nilai\n",
    "Fungsi yang mengembalikan nilai\n",
    "Pada contoh-contoh di atas, kita telah membuat dan memanggil fungsi-fungsi yang tidak memiliki nilai.\n",
    "\n",
    "Sekarang, kita akan coba membuat fungsi yang mempunyai atau mengembalikan sebuah nilai."
   ]
  },
  {
   "cell_type": "code",
   "execution_count": 18,
   "metadata": {},
   "outputs": [],
   "source": [
    "def luas_persegi(sisi):\n",
    "  return sisi * sisi"
   ]
  },
  {
   "cell_type": "code",
   "execution_count": 20,
   "metadata": {},
   "outputs": [
    {
     "name": "stdout",
     "output_type": "stream",
     "text": [
      "Luas persegi dengan sisi 4 adalah: 16\n",
      "Total luas persegi besar dan kecil adalah: 12500\n"
     ]
    }
   ],
   "source": [
    "# tidak menghasilkan output apa pun\n",
    "luas_persegi(10)\n",
    "\n",
    "# menghasilkan output\n",
    "print('Luas persegi dengan sisi 4 adalah:', luas_persegi(4))\n",
    "\n",
    "# kita juga bisa simpan di dalam variabel\n",
    "persegi_besar = luas_persegi(100)\n",
    "persegi_kecil = luas_persegi(50)\n",
    "\n",
    "print('Total luas persegi besar dan kecil adalah:', persegi_besar + persegi_kecil)"
   ]
  },
  {
   "attachments": {},
   "cell_type": "markdown",
   "metadata": {},
   "source": [
    "## Lebih dari 1 return"
   ]
  },
  {
   "cell_type": "code",
   "execution_count": 21,
   "metadata": {},
   "outputs": [],
   "source": [
    "def persentase(total, jumlah):\n",
    "  if (total >= 0 and total <= jumlah):\n",
    "    return total / jumlah * 100\n",
    "\n",
    "  return False"
   ]
  },
  {
   "cell_type": "code",
   "execution_count": 22,
   "metadata": {},
   "outputs": [
    {
     "name": "stdout",
     "output_type": "stream",
     "text": [
      "50.0\n",
      "False\n"
     ]
    }
   ],
   "source": [
    "# output 50\n",
    "print(persentase(30, 60))\n",
    "\n",
    "# output False\n",
    "print(persentase(100, 60))"
   ]
  },
  {
   "cell_type": "markdown",
   "metadata": {},
   "source": [
    "## Ruang Lingkup (dan Siklus Hidup) Variabel Pada Fungsi"
   ]
  },
  {
   "attachments": {},
   "cell_type": "markdown",
   "metadata": {},
   "source": [
    "Secara umum, terdapat dua ruang lingkup variabel pada python:\n",
    "\n",
    "- Variabel global <br>\n",
    "- Dan variabel lokal"
   ]
  },
  {
   "cell_type": "code",
   "execution_count": 24,
   "metadata": {},
   "outputs": [
    {
     "name": "stdout",
     "output_type": "stream",
     "text": [
      "[print secara langsung] Lamongan\n",
      "[panggil fungsi halo]\n",
      "Lamongan\n"
     ]
    }
   ],
   "source": [
    "kota = 'Lamongan' # Variabel global\n",
    "\n",
    "def halo() :\n",
    "  print(kota)\n",
    "\n",
    "print('[print secara langsung]', kota)\n",
    "print('[panggil fungsi halo]')\n",
    "\n",
    "halo()"
   ]
  },
  {
   "cell_type": "code",
   "execution_count": 25,
   "metadata": {},
   "outputs": [
    {
     "name": "stdout",
     "output_type": "stream",
     "text": [
      "[print secara langsung] Lamongan\n",
      "[panggil fungsi halo]\n",
      "Jawa\n",
      "Lamongan\n"
     ]
    }
   ],
   "source": [
    "kota = 'Lamongan' # Variabel global\n",
    "\n",
    "def halo() :\n",
    "    Pulau = 'Jawa' # variable lokal\n",
    "    print(Pulau)\n",
    "    print(kota)\n",
    "\n",
    "print('[print secara langsung]', kota)\n",
    "print('[panggil fungsi halo]')\n",
    "\n",
    "halo()\n"
   ]
  },
  {
   "cell_type": "code",
   "execution_count": 26,
   "metadata": {},
   "outputs": [
    {
     "ename": "NameError",
     "evalue": "name 'Pulau' is not defined",
     "output_type": "error",
     "traceback": [
      "\u001b[1;31m---------------------------------------------------------------------------\u001b[0m",
      "\u001b[1;31mNameError\u001b[0m                                 Traceback (most recent call last)",
      "\u001b[1;32me:\\Project with Kelas.work\\Python Fundamental Programming\\Fungsi.ipynb Cell 35\u001b[0m in \u001b[0;36m<cell line: 1>\u001b[1;34m()\u001b[0m\n\u001b[1;32m----> <a href='vscode-notebook-cell:/e%3A/Project%20with%20Kelas.work/Python%20Fundamental%20Programming/Fungsi.ipynb#X53sZmlsZQ%3D%3D?line=0'>1</a>\u001b[0m \u001b[39mprint\u001b[39m(Pulau)\n",
      "\u001b[1;31mNameError\u001b[0m: name 'Pulau' is not defined"
     ]
    }
   ],
   "source": [
    "print(Pulau)"
   ]
  },
  {
   "cell_type": "code",
   "execution_count": 27,
   "metadata": {},
   "outputs": [
    {
     "name": "stdout",
     "output_type": "stream",
     "text": [
      "Lamongan\n"
     ]
    }
   ],
   "source": [
    "print(kota)"
   ]
  }
 ],
 "metadata": {
  "kernelspec": {
   "display_name": "Python 3.10.5 64-bit",
   "language": "python",
   "name": "python3"
  },
  "language_info": {
   "codemirror_mode": {
    "name": "ipython",
    "version": 3
   },
   "file_extension": ".py",
   "mimetype": "text/x-python",
   "name": "python",
   "nbconvert_exporter": "python",
   "pygments_lexer": "ipython3",
   "version": "3.10.5"
  },
  "orig_nbformat": 4,
  "vscode": {
   "interpreter": {
    "hash": "213524bb45a1aeaf737b1d8c77d7b8db5d425938d9dffc5f4bc6fe6dd3324700"
   }
  }
 },
 "nbformat": 4,
 "nbformat_minor": 2
}
