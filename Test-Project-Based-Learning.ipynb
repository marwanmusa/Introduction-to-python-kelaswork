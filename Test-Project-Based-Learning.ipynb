{
  "cells": [
    {
      "attachments": {},
      "cell_type": "markdown",
      "metadata": {},
      "source": [
        "# *Project Based Learning*"
      ]
    },
    {
      "attachments": {},
      "cell_type": "markdown",
      "metadata": {},
      "source": [
        "Halo `teman kelas`, untuk assessment kali ini teman diharapkan dapat mengimplementasikan pemahaman kalian dari materi-materi yang telah dijelaskan di *course* ini."
      ]
    },
    {
      "attachments": {},
      "cell_type": "markdown",
      "metadata": {},
      "source": [
        "## Hello World"
      ]
    },
    {
      "attachments": {},
      "cell_type": "markdown",
      "metadata": {},
      "source": [
        "\n",
        "Di section ini, gunakanlah fungsi *built-in* python `print` untuk mencetak beberapa kalimat dibawah ini:\n",
        "```python\n",
        "\"Hello World\"\n",
        "\"Belajar di Kelas.work sangat menyenangkan\"\n",
        "```"
      ]
    },
    {
      "cell_type": "code",
      "execution_count": null,
      "metadata": {},
      "outputs": [],
      "source": [
        "print(___)"
      ]
    },
    {
      "cell_type": "code",
      "execution_count": null,
      "metadata": {},
      "outputs": [],
      "source": [
        "___(\"Belajar di Kelas.work sangat menyenangkan\")"
      ]
    },
    {
      "attachments": {},
      "cell_type": "markdown",
      "metadata": {},
      "source": [
        "## Variabel, Operator Perbandingan dan Aritmatika"
      ]
    },
    {
      "attachments": {},
      "cell_type": "markdown",
      "metadata": {},
      "source": [
        "Buatlah sebuah `variabel` dengan value `\"Hello world\"`, lalu print `variabel` tersebut."
      ]
    },
    {
      "cell_type": "code",
      "execution_count": null,
      "metadata": {},
      "outputs": [],
      "source": [
        "___ = \"Hello World\"\n",
        "print(___)"
      ]
    },
    {
      "attachments": {},
      "cell_type": "markdown",
      "metadata": {},
      "source": [
        "- Buatlah sebuah variabel `namadepan` (isi nama depan teman sebagai value di variabel ini),\n",
        "- lalu buat variabel `namabelakang` (masukan nama belakang teman sebagai value di variabel ini)\n",
        "- lalu cetak `namadepan` + `namabelakang` menggunakan printah `print`"
      ]
    },
    {
      "cell_type": "code",
      "execution_count": null,
      "metadata": {},
      "outputs": [],
      "source": [
        "___ = \"[nama depan anda]\"\n",
        "___ = \" [nama depan anda]\""
      ]
    },
    {
      "cell_type": "code",
      "execution_count": null,
      "metadata": {},
      "outputs": [],
      "source": [
        "# isilah dua variabel kedalam print ini\n",
        "print(___ + ___)"
      ]
    },
    {
      "attachments": {},
      "cell_type": "markdown",
      "metadata": {},
      "source": [
        "Pilihlah dua angka (bebas), lalu masukkan ke variabel `angka1` dan `angka2` masing-masing, dengan `angka1` lebih besar dari `angka2`.\n",
        "\n",
        "Lalu gunakan operator perbandingan untuk mengecek value kedua angka tersebut."
      ]
    },
    {
      "cell_type": "code",
      "execution_count": null,
      "metadata": {},
      "outputs": [],
      "source": [
        "angka1 = ___\n",
        "angka2 = ___"
      ]
    },
    {
      "cell_type": "code",
      "execution_count": null,
      "metadata": {},
      "outputs": [],
      "source": [
        "# gunakan operator lebih dari\n",
        "# jika angka1 dan angka2 sesuai, maka outputnya adalah True\n",
        "\n",
        "angka1 ___ 2"
      ]
    },
    {
      "cell_type": "code",
      "execution_count": null,
      "metadata": {},
      "outputs": [],
      "source": [
        "# gunakan operator kurang dari\n",
        "# jika angka1 dan angka2 sesuai, maka outputnya adalah False\n",
        "\n",
        "angka1 ___ angka2"
      ]
    },
    {
      "cell_type": "code",
      "execution_count": null,
      "metadata": {},
      "outputs": [],
      "source": [
        "# gunakan operator tidak sama dengan\n",
        "# jika angka1 dan b sesuai, maka outputnya adalah True\n",
        "\n",
        "angka1 ___ angka2"
      ]
    },
    {
      "cell_type": "code",
      "execution_count": null,
      "metadata": {},
      "outputs": [],
      "source": [
        "# gunakan operator sama dengan\n",
        "# jika angka1 dan b sesuai, maka outputnya adalah False\n",
        "\n",
        "angka1 ___ angka2"
      ]
    },
    {
      "attachments": {},
      "cell_type": "markdown",
      "metadata": {},
      "source": [
        "Lakukan operasi aritmatika dengan kedua variabel `angka1` dan `angka2`"
      ]
    },
    {
      "cell_type": "code",
      "execution_count": null,
      "metadata": {},
      "outputs": [],
      "source": [
        "# penjumlahan\n",
        "print(angka1 ___ angka2)"
      ]
    },
    {
      "cell_type": "code",
      "execution_count": null,
      "metadata": {},
      "outputs": [],
      "source": [
        "# pengurangan\n",
        "print(angka1 ___ angka2)"
      ]
    },
    {
      "cell_type": "code",
      "execution_count": null,
      "metadata": {},
      "outputs": [],
      "source": [
        "# perkalian\n",
        "print(angka1 ___ angka2)"
      ]
    },
    {
      "cell_type": "code",
      "execution_count": null,
      "metadata": {},
      "outputs": [],
      "source": [
        "# pangkat\n",
        "print(angka1 ___ angka2)"
      ]
    },
    {
      "cell_type": "code",
      "execution_count": null,
      "metadata": {},
      "outputs": [],
      "source": [
        "# sisa bagi\n",
        "print(angka1 ___ angka2)"
      ]
    },
    {
      "attachments": {},
      "cell_type": "markdown",
      "metadata": {},
      "source": [
        "## Seleksi Kondisi"
      ]
    },
    {
      "attachments": {},
      "cell_type": "markdown",
      "metadata": {},
      "source": [
        "Masih dengan menggunakan variabel `angka1` dan `angka2` di atas,\n",
        "gunakan `statement if-else` untuk print kalimat `\"angka1 lebih besar dari angka2\"` jika `angka1` besar dari `angka2` dan `\"Done\"` jika `angka1` kecil dari `angka2`."
      ]
    },
    {
      "cell_type": "code",
      "execution_count": null,
      "metadata": {},
      "outputs": [],
      "source": [
        "angka1 = ___\n",
        "angka2 = ___\n",
        "\n",
        "if angka1 ___ angka2:\n",
        "    print(___)\n",
        "___:\n",
        "    ___(\"Done\")"
      ]
    },
    {
      "attachments": {},
      "cell_type": "markdown",
      "metadata": {},
      "source": [
        "gunakan `nested-if (if di dalam if)` untuk print variabel `angka` (yang valuenya suatu bilangan) jika `angka` kecil dari `100` dan dan habis dibagi `3`."
      ]
    },
    {
      "cell_type": "code",
      "execution_count": null,
      "metadata": {},
      "outputs": [],
      "source": [
        "# suatu angka habis dibagi 3 jika angka modulp 3 == 0\n",
        "\n",
        "angka = ___\n",
        "\n",
        "___ angka < 3:\n",
        "    if angka ___ 3 == 0:\n",
        "        print(angka)"
      ]
    },
    {
      "attachments": {},
      "cell_type": "markdown",
      "metadata": {},
      "source": [
        "## Struktur Data"
      ]
    },
    {
      "attachments": {},
      "cell_type": "markdown",
      "metadata": {},
      "source": [
        "Buatlah sebuah list dengan nama `my_list`, lalu isilah `list` itu dengan bilangan ganjil dibawah `20`"
      ]
    },
    {
      "cell_type": "code",
      "execution_count": null,
      "metadata": {},
      "outputs": [],
      "source": [
        "my_list = [___]"
      ]
    },
    {
      "attachments": {},
      "cell_type": "markdown",
      "metadata": {},
      "source": [
        "tambahkan elemen `21` ke dalam `my_list` dengan menggunakan metode `append`"
      ]
    },
    {
      "cell_type": "code",
      "execution_count": null,
      "metadata": {},
      "outputs": [],
      "source": [
        "my_list.append(___)"
      ]
    },
    {
      "attachments": {},
      "cell_type": "markdown",
      "metadata": {},
      "source": [
        "Lalu periksa apakah `21` ada dalam `my_list`"
      ]
    },
    {
      "cell_type": "code",
      "execution_count": null,
      "metadata": {},
      "outputs": [],
      "source": [
        "# gunakan operator \"in\" untuk pengecekan keanggotaan\n",
        "# jika 21 adalah elemen my_list maka hasil program ini True\n",
        "\n",
        "21 ___ my_list"
      ]
    },
    {
      "attachments": {},
      "cell_type": "markdown",
      "metadata": {},
      "source": [
        "Buatlah sebuah `dictionary` `my_dict` yang `keys` nya adalah negara, ibukota, wisata_terkenal."
      ]
    },
    {
      "cell_type": "code",
      "execution_count": null,
      "metadata": {},
      "outputs": [],
      "source": [
        "my_dict = {\"Negara\" : ___, \"ibukota\" : ___, \"wisata_terkenal\" : ___}"
      ]
    },
    {
      "attachments": {},
      "cell_type": "markdown",
      "metadata": {},
      "source": [
        "lalu akses Negara yang ada dalam `my_dict`"
      ]
    },
    {
      "cell_type": "code",
      "execution_count": null,
      "metadata": {},
      "outputs": [],
      "source": [
        "my_dict[\"___\"]"
      ]
    },
    {
      "attachments": {},
      "cell_type": "markdown",
      "metadata": {},
      "source": [
        "akses `\"ibukota\"`"
      ]
    },
    {
      "cell_type": "code",
      "execution_count": null,
      "metadata": {},
      "outputs": [],
      "source": [
        "my_dict[\"___\"]"
      ]
    },
    {
      "attachments": {},
      "cell_type": "markdown",
      "metadata": {},
      "source": [
        "akses `\"wisata_terkenal\"`"
      ]
    },
    {
      "cell_type": "code",
      "execution_count": null,
      "metadata": {},
      "outputs": [],
      "source": [
        "my_dict[\"___\"]"
      ]
    },
    {
      "attachments": {},
      "cell_type": "markdown",
      "metadata": {},
      "source": [
        "untuk melihat semua *keys* yang ada di `my_dict`, kita bisa menggunakan method `keys`."
      ]
    },
    {
      "cell_type": "code",
      "execution_count": null,
      "metadata": {},
      "outputs": [],
      "source": [
        "my_dict.keys()"
      ]
    },
    {
      "attachments": {},
      "cell_type": "markdown",
      "metadata": {},
      "source": [
        "Teman kelas bisa menggunakan method `values` untuk melihat semua `values` di `my_dict`."
      ]
    },
    {
      "cell_type": "code",
      "execution_count": null,
      "metadata": {},
      "outputs": [],
      "source": [
        "my_dict.___"
      ]
    },
    {
      "attachments": {},
      "cell_type": "markdown",
      "metadata": {},
      "source": [
        "## Perulangan"
      ]
    },
    {
      "attachments": {},
      "cell_type": "markdown",
      "metadata": {},
      "source": [
        "Buatlah perulangan *while* untuk mencetak bilangan `1` sampai `10`"
      ]
    },
    {
      "cell_type": "code",
      "execution_count": null,
      "metadata": {},
      "outputs": [],
      "source": [
        "angka = 0 # variabel acuan untuk increment - nilanya bertambah 1 setiap perulangan\n",
        "while (___ < 11):\n",
        "    print(\"angka :\" + ___)\n",
        "    ___ = angka + 1\n",
        "print(\"selesai\")"
      ]
    },
    {
      "attachments": {},
      "cell_type": "markdown",
      "metadata": {},
      "source": [
        "Misalkan kita punya list `kota` yang berisi nama-nama kota. Buatlah perulangan `for` yang menghasilkan output setiap nama kota yang ada di list `kota`."
      ]
    },
    {
      "cell_type": "code",
      "execution_count": null,
      "metadata": {},
      "outputs": [],
      "source": [
        "# misal isi list kota seperti ini\n",
        "kota = ['jakarta', 'depok', 'bandung', 'jepara']\n",
        "\n",
        "# perulangan for\n",
        "___ nama_kota in ___:\n",
        "    print(___)"
      ]
    },
    {
      "attachments": {},
      "cell_type": "markdown",
      "metadata": {},
      "source": [
        "## Objek dan Class"
      ]
    },
    {
      "attachments": {},
      "cell_type": "markdown",
      "metadata": {},
      "source": [
        "Buatlah `class Mahasiswa` yang variabel *instance* nya `nama`, `umur`, `kampus`, dan `jurusan`.\n",
        "\n",
        "Tambahkan method `\"showdetail\"` untuk menmpilkan `nama` dan `umur`, dan method `\"cek_umur\"` untuk cek apakah `umur` lebih dari `18` tahun (termasuk dewasa), jika tidak masuk usia remaja."
      ]
    },
    {
      "cell_type": "code",
      "execution_count": null,
      "metadata": {},
      "outputs": [],
      "source": [
        "class ___:\n",
        "    def __init__(self, nama, ___, ___, ___):\n",
        "        self.nama = nama\n",
        "        self.umur = ___\n",
        "        ___       = kampus\n",
        "        ___       = jurusan\n",
        "\n",
        "    def showdetail(___):\n",
        "        print(\"Nama : \", ___, \", ___: \", self.umur)\n",
        "\n",
        "    def cek_umur(___):\n",
        "        if self.umur >= ___:\n",
        "            print(\"Dewasa\")\n",
        "        else:\n",
        "            print(\"Remaja\")"
      ]
    },
    {
      "attachments": {},
      "cell_type": "markdown",
      "metadata": {},
      "source": [
        "Buatlah objek `mhs_baru` dengan<br>\n",
        "nama = \"[Nama Teman]\"<br>\n",
        "umur = \"[Umur Teman]\"<br>\n",
        "begitu juga dengan kampus dan jurusan.\n"
      ]
    },
    {
      "cell_type": "code",
      "execution_count": null,
      "metadata": {},
      "outputs": [],
      "source": [
        "mhs_baru = Mahasiswa(___ , ___ , ___ , ___)"
      ]
    },
    {
      "attachments": {},
      "cell_type": "markdown",
      "metadata": {},
      "source": [
        "lalu akses atribut dan method dari objek `mhs_baru`."
      ]
    },
    {
      "cell_type": "code",
      "execution_count": null,
      "metadata": {},
      "outputs": [],
      "source": [
        "# Akses atribut\n",
        "mhs_baru.nama            # akses atribut nama\n",
        "mhs_baru.___             # akses atribut umur\n",
        "mhs_baru.___             # akses atribut kampus\n",
        "mhs_baru.___             # akses atribut jurusan"
      ]
    },
    {
      "cell_type": "code",
      "execution_count": null,
      "metadata": {},
      "outputs": [],
      "source": [
        "# akses method\n",
        "mhs_baru.showdetail()    # akses method showdetail()\n",
        "mhs_baru.__              # akses method cek_umur()"
      ]
    },
    {
      "attachments": {},
      "cell_type": "markdown",
      "metadata": {},
      "source": [
        "## Fungsi\n",
        "\n",
        "Buatlah fungsi `luas_persegi` untuk menghitung luas suatu persegi dengan input `sisi`"
      ]
    },
    {
      "cell_type": "code",
      "execution_count": null,
      "metadata": {},
      "outputs": [],
      "source": [
        "def luas_persegi(___):\n",
        "    luas = ___ * ___\n",
        "    return ___"
      ]
    },
    {
      "attachments": {},
      "cell_type": "markdown",
      "metadata": {},
      "source": [
        "Buatlah fungsi untuk menghitung panjang dari suatu `list`\n",
        "- Nama fungsi `panjang_list`\n",
        "- Input nya adalah suatu list"
      ]
    },
    {
      "cell_type": "code",
      "execution_count": null,
      "metadata": {},
      "outputs": [],
      "source": [
        "A = ___ # gantilah value A menjadi suatu list\n",
        "\n",
        "def ___(___):\n",
        "    # untuk menghitung panjang suatu list\n",
        "    # kita menggunakan method len(list)\n",
        "    length = len(___)\n",
        "    return length"
      ]
    },
    {
      "attachments": {},
      "cell_type": "markdown",
      "metadata": {
        "id": "0b1rJgb4fZCJ"
      },
      "source": [
        "## Python untuk Data Analysis"
      ]
    },
    {
      "attachments": {},
      "cell_type": "markdown",
      "metadata": {},
      "source": [
        "Di section ini kita akan melakukan analisis terhadap dataset jenis-jenis mobil dan klasifikasinya"
      ]
    },
    {
      "attachments": {},
      "cell_type": "markdown",
      "metadata": {
        "id": "ZntxzxpwfgAb"
      },
      "source": [
        "## Import Libraries"
      ]
    },
    {
      "attachments": {},
      "cell_type": "markdown",
      "metadata": {},
      "source": [
        "Yang pertama kita lakukan adalah import semua library yang dibutuhkan"
      ]
    },
    {
      "cell_type": "code",
      "execution_count": null,
      "metadata": {
        "id": "EznMxjvFfUBX"
      },
      "outputs": [],
      "source": [
        "import pandas as pd                         #dataframe manipulation\n",
        "import numpy as np                          #scientific computing\n",
        "import seaborn as sns                       #visualization\n",
        "import matplotlib.pyplot as plt             #visualization\n",
        "%matplotlib inline\n",
        "sns.set(color_codes=True)\n",
        "\n",
        "import warnings\n",
        "warnings.filterwarnings('ignore')"
      ]
    },
    {
      "attachments": {},
      "cell_type": "markdown",
      "metadata": {
        "id": "CUX8mTPBfsLY"
      },
      "source": [
        "## Importing Dataset"
      ]
    },
    {
      "attachments": {},
      "cell_type": "markdown",
      "metadata": {},
      "source": [
        "Import dataset dari source url : https://raw.githubusercontent.com/marwanmusa/dataset/main/data.csv"
      ]
    },
    {
      "cell_type": "code",
      "execution_count": null,
      "metadata": {
        "colab": {
          "base_uri": "https://localhost:8080/",
          "height": 808
        },
        "id": "ckoFI2Hqfqb0",
        "outputId": "bd5df78a-8271-4fb6-c1c3-0c8196be9450"
      },
      "outputs": [],
      "source": [
        "url = __\n",
        "\n",
        "# gunakan method read.csv dari pandas  untuk membaca data csv tersebut\n",
        "df = pd.___(url)\n",
        "\n",
        "# tampilkan 5 baris pertama menggunakan method head\n",
        "df.___()"
      ]
    },
    {
      "cell_type": "code",
      "execution_count": null,
      "metadata": {
        "colab": {
          "base_uri": "https://localhost:8080/",
          "height": 461
        },
        "id": "4_oYX41PgB5-",
        "outputId": "1b1cf878-b5a5-4246-8449-58aaeab5d855"
      },
      "outputs": [],
      "source": [
        "# tampilkan 5 baris terakhir dari data menggunakan method tail\n",
        "df.___()"
      ]
    },
    {
      "attachments": {},
      "cell_type": "markdown",
      "metadata": {},
      "source": [
        "## Data Wrangling"
      ]
    },
    {
      "attachments": {},
      "cell_type": "markdown",
      "metadata": {
        "id": "T5__DdRogNFn"
      },
      "source": [
        "### *Hapus Kolom yang Irrelevant*"
      ]
    },
    {
      "attachments": {},
      "cell_type": "markdown",
      "metadata": {},
      "source": [
        "Hapuslah kolom kolom-kolom ini dari data\n",
        "- Engine Fuel Type,\n",
        "- Market Category,\n",
        "- Vehicle Style,\n",
        "- Popularity,\n",
        "- Number of Doors,\n",
        "- Vehicle Size"
      ]
    },
    {
      "cell_type": "code",
      "execution_count": null,
      "metadata": {
        "colab": {
          "base_uri": "https://localhost:8080/",
          "height": 372
        },
        "id": "iaOMkiW2gORL",
        "outputId": "d0cbff2d-2d15-4b7c-d989-eab8f4989519"
      },
      "outputs": [],
      "source": [
        "# pertama, masukkan kolom-kolom tersebut ke dalam list_kolom\n",
        "list_kolom = ___\n",
        "\n",
        "# Gunakan method drop dari pandas untuk menghapus kolom\n",
        "df = df.___(list_kolom, axis=1)\n",
        "\n",
        "# tampilkan 5 data pertama setelah beberapa kolom di hapus\n",
        "df.___()"
      ]
    },
    {
      "attachments": {},
      "cell_type": "markdown",
      "metadata": {
        "id": "WgeXdezVgjy9"
      },
      "source": [
        "### *Mengubah Nama Kolom*"
      ]
    },
    {
      "attachments": {},
      "cell_type": "markdown",
      "metadata": {},
      "source": [
        "Ubah nama kolom-kolom berikut ini:\n",
        "\n",
        "Engine HP -> HP,<br>\n",
        "Engine Cylinders -> Cylinders,<br>\n",
        "Transmission Type -> Transmission,<br>\n",
        "Driven_Wheels -> Drive Mode,<br>\n",
        "highway MPG -> MPG-H,<br>\n",
        "city mpg -> MPG-C,<br>\n",
        "MSRP -> Price<br>"
      ]
    },
    {
      "cell_type": "code",
      "execution_count": null,
      "metadata": {
        "colab": {
          "base_uri": "https://localhost:8080/",
          "height": 250
        },
        "id": "JLUr08NRgk4S",
        "outputId": "052e15bc-fe56-4a07-e9b3-09cdecfe194c"
      },
      "outputs": [],
      "source": [
        "# gunakan method rename dari pandas untuk mengubah nama kolom\n",
        "df = df.___(columns={\"___\": \"HP\",\n",
        "                    \"___\": \"Cylinders\",\n",
        "                    \"___\": \"Transmission\",\n",
        "                    \"___\": \"Drive Mode\",\n",
        "                    \"highway MPG\": \"___\",\n",
        "                    \"city mpg\": \"___\",\n",
        "                    \"___\": \"___\" })\n",
        "\n",
        "# tampilkan 5 data pertama setelah beberapa kolom di ubah nama\n",
        "df.___()"
      ]
    },
    {
      "attachments": {},
      "cell_type": "markdown",
      "metadata": {
        "id": "rWUwHo5jgtyc"
      },
      "source": [
        "### *Menghapus Kolom Duplikat*"
      ]
    },
    {
      "attachments": {},
      "cell_type": "markdown",
      "metadata": {},
      "source": [
        "Gunakan method `duplicated` dari pandas untuk menampilkan data duplikat"
      ]
    },
    {
      "cell_type": "code",
      "execution_count": null,
      "metadata": {
        "colab": {
          "base_uri": "https://localhost:8080/"
        },
        "id": "5mlsQIZ69Y-H",
        "outputId": "82f7709d-4578-4e7b-ca68-0c8356c44863"
      },
      "outputs": [],
      "source": [
        "df[df.___()]"
      ]
    },
    {
      "cell_type": "code",
      "execution_count": null,
      "metadata": {
        "colab": {
          "base_uri": "https://localhost:8080/"
        },
        "id": "pTNEYyrhhSz4",
        "outputId": "f1b371c3-3e39-43fc-9438-7de1e5e82013"
      },
      "outputs": [],
      "source": [
        "# gunakan method count dari pandas untuk menampilkan jumlah baris tiap variabel\n",
        "df.___()"
      ]
    },
    {
      "attachments": {},
      "cell_type": "markdown",
      "metadata": {},
      "source": [
        "untuk menghapus data duplikat, gunakan method `drop_duplicates`, dan inisialisasikan dataframe baru setelah drop duplikat ke variabel `df`"
      ]
    },
    {
      "cell_type": "code",
      "execution_count": null,
      "metadata": {
        "colab": {
          "base_uri": "https://localhost:8080/"
        },
        "id": "CzuPlAWOhcUo",
        "outputId": "30843d5b-2d73-4650-eee0-fa8991470574"
      },
      "outputs": [],
      "source": [
        "df = df.___()"
      ]
    },
    {
      "cell_type": "code",
      "execution_count": null,
      "metadata": {},
      "outputs": [],
      "source": [
        "# lihat jumlah baris setelah drop duplikat menggunakan method count\n",
        "df.__()\n"
      ]
    },
    {
      "attachments": {},
      "cell_type": "markdown",
      "metadata": {
        "id": "3qzdZjPNhjxV"
      },
      "source": [
        "### *Menghapus Missing Values*"
      ]
    },
    {
      "attachments": {},
      "cell_type": "markdown",
      "metadata": {},
      "source": [
        "Gunakan method `isnull` untuk mengecek null values atau tidak, lalu gunakan method `sum` untuk menjumlahkan semua hasil method `isnull` bernilai `True`."
      ]
    },
    {
      "cell_type": "code",
      "execution_count": null,
      "metadata": {
        "colab": {
          "base_uri": "https://localhost:8080/"
        },
        "id": "pCuYuwwqhk4V",
        "outputId": "0047f1cf-2a0f-4f9b-dbfe-dc5a08be8a79"
      },
      "outputs": [],
      "source": [
        "# Cek jumlah missing values tiap variable\n",
        "print(df.___().___())"
      ]
    },
    {
      "attachments": {},
      "cell_type": "markdown",
      "metadata": {},
      "source": [
        "Gunakan method `dropna` untuk menghapus missing / null values di data."
      ]
    },
    {
      "cell_type": "code",
      "execution_count": null,
      "metadata": {
        "colab": {
          "base_uri": "https://localhost:8080/"
        },
        "id": "ZqbepnSehyp4",
        "outputId": "18b84164-8955-4fbc-cad1-7a12058851a4"
      },
      "outputs": [],
      "source": [
        "df = df.___()    # Dropping the missing values."
      ]
    },
    {
      "cell_type": "code",
      "execution_count": null,
      "metadata": {},
      "outputs": [],
      "source": [
        "# lihat jumlah baris setelah drop missing values menggunakan method count\n",
        "df.__()"
      ]
    },
    {
      "attachments": {},
      "cell_type": "markdown",
      "metadata": {
        "id": "vUYlihAzh40s"
      },
      "source": [
        "Setelah dihapus missing values nya, kita bisa cek lagi apakah masih ada atau tidak dengan menggunakan method `isnull` dan `sum`"
      ]
    },
    {
      "cell_type": "code",
      "execution_count": null,
      "metadata": {
        "colab": {
          "base_uri": "https://localhost:8080/"
        },
        "id": "M9gM46YDh5ai",
        "outputId": "3d37c931-4f7d-4b8b-9241-a19be3025b07"
      },
      "outputs": [],
      "source": [
        "# Cek jumlah missing values tiap variable\n",
        "print(df.___().___())"
      ]
    },
    {
      "attachments": {},
      "cell_type": "markdown",
      "metadata": {
        "id": "ozn0Ay8Xh9cs"
      },
      "source": [
        "### *Mendeteksi Outliers*"
      ]
    },
    {
      "attachments": {},
      "cell_type": "markdown",
      "metadata": {},
      "source": [
        "Gunakan method `boxplot` dari `seaborn` untuk melihat distribusi data dengan dalam bentuk `boxplot`"
      ]
    },
    {
      "cell_type": "code",
      "execution_count": null,
      "metadata": {
        "colab": {
          "base_uri": "https://localhost:8080/",
          "height": 303
        },
        "id": "Qw5qsNPqh-i1",
        "outputId": "a72e732f-a5eb-4867-83d7-f5c230a01861"
      },
      "outputs": [],
      "source": [
        "# Boxplot untuk variabel Price\n",
        "sns.___(x=df['Price'])"
      ]
    },
    {
      "cell_type": "code",
      "execution_count": null,
      "metadata": {
        "colab": {
          "base_uri": "https://localhost:8080/",
          "height": 303
        },
        "id": "sH2Or341iHko",
        "outputId": "ba4f8e55-60c9-4cf0-9dca-b8a2008a7b49"
      },
      "outputs": [],
      "source": [
        "# Boxplot untuk variabel HP\n",
        "sns.boxplot(x=df['___'])"
      ]
    },
    {
      "cell_type": "code",
      "execution_count": null,
      "metadata": {
        "colab": {
          "base_uri": "https://localhost:8080/",
          "height": 303
        },
        "id": "8FJdjmsXiL1K",
        "outputId": "bf4e0974-6f7f-43b2-c859-8aa87e1c46ed"
      },
      "outputs": [],
      "source": [
        "# Boxplot untuk variabel Cylinders\n",
        "sns.___(x=df['___'])"
      ]
    },
    {
      "attachments": {},
      "cell_type": "markdown",
      "metadata": {},
      "source": [
        "## Exploratory Data Analysis"
      ]
    },
    {
      "attachments": {},
      "cell_type": "markdown",
      "metadata": {
        "id": "fM4c4R-0iwnU"
      },
      "source": [
        "### *Plot Korelasi antar Feature*"
      ]
    },
    {
      "cell_type": "markdown",
      "metadata": {
        "id": "yOP9HVSui58_"
      },
      "source": [
        "**Histogram**"
      ]
    },
    {
      "attachments": {},
      "cell_type": "markdown",
      "metadata": {},
      "source": [
        "Gunakan method `nlargest` dengan argumen `40` untuk melihat frekuensi `40` data terbanyak di data.\n",
        "\n",
        "Set kind ke `bar` untuk bar chart.\n",
        "\n",
        "atur ukuran grafik ke `10, 5`"
      ]
    },
    {
      "cell_type": "code",
      "execution_count": null,
      "metadata": {
        "colab": {
          "base_uri": "https://localhost:8080/",
          "height": 429
        },
        "id": "4A2GJHavi0w1",
        "outputId": "7f15a7d3-ce58-4cc3-cb4a-6b37abe1e53e"
      },
      "outputs": [],
      "source": [
        "# untuk frequency data, gunakan bar chart\n",
        "df.Make.value_counts().___(___).plot(kind='___', figsize=(___, ____))\n",
        "plt.title(\"Number of cars by make\") # judul grafik\n",
        "plt.ylabel('Number of cars')        # label untuk koordinat y\n",
        "plt.xlabel('Make');                 # label untuk koordinat x"
      ]
    },
    {
      "cell_type": "markdown",
      "metadata": {
        "id": "vCBS1ItRi_5F"
      },
      "source": [
        "**Heat Maps**"
      ]
    },
    {
      "attachments": {},
      "cell_type": "markdown",
      "metadata": {},
      "source": [
        "atur ukuran grafik ke `10, 5`\n",
        "\n",
        "gunakan method `coor` dari `pandas` untuk melihat korelasi tiap variabel dalam bentuk `dataframe`\n",
        "\n",
        "gunakan method `heatmap` dari `seaborn` untuk melihat korelasi tiap variabel dalam bentuk `heatmap`"
      ]
    },
    {
      "cell_type": "code",
      "execution_count": null,
      "metadata": {
        "colab": {
          "base_uri": "https://localhost:8080/",
          "height": 546
        },
        "id": "3x09YS1jjC6R",
        "outputId": "82e0c8b9-7de5-430d-98a2-67ffc77283c8"
      },
      "outputs": [],
      "source": [
        "# untuk analisis korelasi seluruh variabel gunakan heatmaps\n",
        "plt.figure(figsize=(___, ___))\n",
        "c = df.___()\n",
        "sns.___(c, cmap = \"BrBG\", annot = True)\n",
        "c"
      ]
    },
    {
      "cell_type": "markdown",
      "metadata": {
        "id": "PmAGeYUDjLHF"
      },
      "source": [
        "**Scatterplot**"
      ]
    },
    {
      "attachments": {},
      "cell_type": "markdown",
      "metadata": {},
      "source": [
        "Disini teman kelas akan melihat korelasi antar 2 variabel saja yaitu `HP` dan `Price`\n",
        "\n",
        "atur ukuran grafik ke `10, 5`\n",
        "\n",
        "gunakan method `scatter` dari matplotlib untuk menampilkan scatterplot\n",
        "\n",
        "lalu panggil method `show` untuk memunculkan output plotnya"
      ]
    },
    {
      "cell_type": "code",
      "execution_count": null,
      "metadata": {
        "colab": {
          "base_uri": "https://localhost:8080/",
          "height": 394
        },
        "id": "UJ_DCv2wjMrM",
        "outputId": "c5c93083-c875-4e96-a5c6-d401b0b93857"
      },
      "outputs": [],
      "source": [
        "# untuk korelasi antara dua variabel gunakan scatterplot\n",
        "fig, ax = plt.subplots(figsize=(___, ___))\n",
        "ax.___(df['HP'], df['Price'])\n",
        "ax.set_xlabel('HP')     # label untuk koordinat x\n",
        "ax.set_ylabel('Price')  # label untuk koordinat y\n",
        "plt.show()"
      ]
    },
    {
      "cell_type": "markdown",
      "metadata": {
        "id": "D85v8dWLl1BH"
      },
      "source": [
        "## 10. Grouping Data"
      ]
    },
    {
      "cell_type": "markdown",
      "metadata": {
        "id": "6uSZPjxRl8SB"
      },
      "source": [
        "### *Categorical Data*"
      ]
    },
    {
      "cell_type": "code",
      "execution_count": null,
      "metadata": {
        "colab": {
          "base_uri": "https://localhost:8080/",
          "height": 424
        },
        "id": "oWMGzPHol5Qo",
        "outputId": "ec5e915a-494f-4a60-ff0c-0e7480e83709"
      },
      "outputs": [],
      "source": [
        "# Select data group categorical only\n",
        "df.select_dtypes(include=[object])"
      ]
    },
    {
      "cell_type": "markdown",
      "metadata": {
        "id": "kjEF4ke4muXU"
      },
      "source": [
        "### *Numerical Data*"
      ]
    },
    {
      "cell_type": "code",
      "execution_count": null,
      "metadata": {
        "colab": {
          "base_uri": "https://localhost:8080/",
          "height": 424
        },
        "id": "RN-nkBtPmxNq",
        "outputId": "8ba2383f-91aa-4f21-b037-fb5d235ba832"
      },
      "outputs": [],
      "source": [
        "# Select data group numerical only\n",
        "df.select_dtypes(exclude=[object])"
      ]
    },
    {
      "cell_type": "markdown",
      "metadata": {
        "id": "Yz4VWjuNlRzF"
      },
      "source": [
        "## 11. Descriptive statistics using `describe()`"
      ]
    },
    {
      "attachments": {},
      "cell_type": "markdown",
      "metadata": {},
      "source": [
        "Gunakan method `describe` dari `pandas` untuk menampilkan `statistik deskriptif` dari data (`count`, `mean`, `min`, `max`, `std` dan lainnya)"
      ]
    },
    {
      "cell_type": "code",
      "execution_count": null,
      "metadata": {
        "colab": {
          "base_uri": "https://localhost:8080/",
          "height": 300
        },
        "id": "uEQqiiyMlIcB",
        "outputId": "3bc5e50b-67e3-4c11-ac5c-211e0ba32b55"
      },
      "outputs": [],
      "source": [
        "df.____()"
      ]
    },
    {
      "cell_type": "markdown",
      "metadata": {
        "id": "BfffRs83pDhD"
      },
      "source": [
        "### *Data Distribution*"
      ]
    },
    {
      "attachments": {},
      "cell_type": "markdown",
      "metadata": {},
      "source": [
        "Kita bisa memfilter data apa saja yang bertipe `numerikal` dan sebaliknya.\n",
        "\n",
        "misalkan disini kita ingin mengambil data `numerikal` saja, caranya:\n",
        "\n",
        "gunakan method `select_dtypes` dari pandas untuk memilih suatu `type data`\n",
        "\n",
        "lalu `exclude` data bertipe `object`\n",
        "\n",
        "kemudian simpan ke variabel `data_num_columns`"
      ]
    },
    {
      "cell_type": "code",
      "execution_count": null,
      "metadata": {},
      "outputs": [],
      "source": [
        "# Numerical columns as a variable\n",
        "___ = df.___(exclude=['___'])"
      ]
    },
    {
      "attachments": {},
      "cell_type": "markdown",
      "metadata": {},
      "source": [
        "Selanjutnya setiap `variabel numerikal` di `data_num_columns` akan kita liat distribusinya seperti apa, menggunakan method `displot` dari `seaborn`."
      ]
    },
    {
      "cell_type": "code",
      "execution_count": null,
      "metadata": {
        "colab": {
          "base_uri": "https://localhost:8080/",
          "height": 666
        },
        "id": "OklOLMLNo47A",
        "outputId": "a0b61b4f-39e5-4a23-ef63-2622e2106205"
      },
      "outputs": [],
      "source": [
        "# Visualizing data distribution with distplot\n",
        "x = plt.figure(figsize=(___, ___))        # atur size grafik ke 18, 16\n",
        "\n",
        "for i, j in enumerate(___):               # enumerate i as index and j as data in data_num_columns\n",
        "    x.add_subplot(3, 2, i+1)\n",
        "    sns.____(df[j], bins=15)          # panggil method distplot\n",
        "    x.tight_layout()\n",
        "\n",
        "plt.tight_layout()"
      ]
    }
  ],
  "metadata": {
    "colab": {
      "provenance": []
    },
    "kernelspec": {
      "display_name": "Python 3",
      "language": "python",
      "name": "python3"
    },
    "language_info": {
      "codemirror_mode": {
        "name": "ipython",
        "version": 3
      },
      "file_extension": ".py",
      "mimetype": "text/x-python",
      "name": "python",
      "nbconvert_exporter": "python",
      "pygments_lexer": "ipython3",
      "version": "3.10.5"
    },
    "vscode": {
      "interpreter": {
        "hash": "213524bb45a1aeaf737b1d8c77d7b8db5d425938d9dffc5f4bc6fe6dd3324700"
      }
    }
  },
  "nbformat": 4,
  "nbformat_minor": 0
}
