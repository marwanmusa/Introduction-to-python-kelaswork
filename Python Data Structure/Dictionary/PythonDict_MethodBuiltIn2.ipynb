{
 "cells": [
  {
   "attachments": {},
   "cell_type": "markdown",
   "metadata": {},
   "source": [
    "# Method Built-In untuk Dictionary dalam Python"
   ]
  },
  {
   "attachments": {},
   "cell_type": "markdown",
   "metadata": {},
   "source": [
    "### *Clear*"
   ]
  },
  {
   "cell_type": "code",
   "execution_count": 18,
   "metadata": {},
   "outputs": [
    {
     "name": "stdout",
     "output_type": "stream",
     "text": [
      "{'Name': 'Zara', 'Age': 20, 'Class': 'Math'}\n",
      "{'Name': 'John', 'Age': 34, 'Class': 'Physics'}\n"
     ]
    }
   ],
   "source": [
    "# Buat Dictionary\n",
    "dict1 = {'Name' : 'Zara', 'Age' : 20, 'Class' : 'Math'}\n",
    "dict2 = {'Name' : 'John', 'Age' : 34, 'Class' : 'Physics'}\n",
    "print(dict1)\n",
    "print(dict2)"
   ]
  },
  {
   "cell_type": "code",
   "execution_count": 19,
   "metadata": {},
   "outputs": [
    {
     "name": "stdout",
     "output_type": "stream",
     "text": [
      "{}\n"
     ]
    }
   ],
   "source": [
    "dict1.clear()\n",
    "print(dict1)"
   ]
  },
  {
   "attachments": {},
   "cell_type": "markdown",
   "metadata": {},
   "source": [
    "### *Copy*"
   ]
  },
  {
   "cell_type": "code",
   "execution_count": 20,
   "metadata": {},
   "outputs": [
    {
     "name": "stdout",
     "output_type": "stream",
     "text": [
      "{'Name': 'John', 'Age': 34, 'Class': 'Physics'}\n"
     ]
    }
   ],
   "source": [
    "dict1 = dict2.copy()\n",
    "print(dict1)"
   ]
  },
  {
   "attachments": {},
   "cell_type": "markdown",
   "metadata": {},
   "source": [
    "### *Fromkeys*"
   ]
  },
  {
   "cell_type": "code",
   "execution_count": 21,
   "metadata": {},
   "outputs": [
    {
     "name": "stdout",
     "output_type": "stream",
     "text": [
      "{'Name': 0, 'Age': 0, 'Class': 0}\n"
     ]
    }
   ],
   "source": [
    "x = ('Name', 'Age', 'Class')\n",
    "y = 0\n",
    "\n",
    "dict3 = dict.fromkeys(x, y)\n",
    "\n",
    "print(dict3)"
   ]
  },
  {
   "attachments": {},
   "cell_type": "markdown",
   "metadata": {},
   "source": [
    "### *Get*"
   ]
  },
  {
   "cell_type": "code",
   "execution_count": 22,
   "metadata": {},
   "outputs": [
    {
     "name": "stdout",
     "output_type": "stream",
     "text": [
      "{'Name': 'John', 'Age': 34, 'Class': 'Physics'}\n",
      "Value : John\n",
      "Value : 34\n",
      "Value : Never\n"
     ]
    }
   ],
   "source": [
    "# dict.get(key, default=None)\n",
    "print(dict1)\n",
    "print(\"Value : %s\" %  dict1.get('Name'))\n",
    "print(\"Value : %s\" %  dict1.get('Age'))\n",
    "print(\"Value : %s\" %  dict1.get('Education', \"Never\"))"
   ]
  },
  {
   "attachments": {},
   "cell_type": "markdown",
   "metadata": {},
   "source": [
    "### *Setdefault*"
   ]
  },
  {
   "cell_type": "code",
   "execution_count": 23,
   "metadata": {},
   "outputs": [
    {
     "name": "stdout",
     "output_type": "stream",
     "text": [
      "{'Name': 'John', 'Age': 34, 'Class': 'Physics'}\n",
      "Value : 34\n",
      "Value : None\n",
      "{'Name': 'John', 'Age': 34, 'Class': 'Physics', 'Height': None}\n"
     ]
    }
   ],
   "source": [
    "print(dict1)\n",
    "print(\"Value : %s\" %  dict1.setdefault('Age', None))\n",
    "print(\"Value : %s\" %  dict1.setdefault('Height', None))\n",
    "print(dict1)"
   ]
  },
  {
   "attachments": {},
   "cell_type": "markdown",
   "metadata": {},
   "source": [
    "### *Items*"
   ]
  },
  {
   "cell_type": "code",
   "execution_count": 24,
   "metadata": {},
   "outputs": [
    {
     "name": "stdout",
     "output_type": "stream",
     "text": [
      "Dictionary to be checked: \n",
      "{'Name': 'John', 'Age': 34, 'Class': 'Physics', 'Height': None}\n",
      "\n",
      "dict_items([('Name', 'John'), ('Age', 34), ('Class', 'Physics'), ('Height', None)])\n"
     ]
    }
   ],
   "source": [
    "# dict.items()\n",
    "\n",
    "# Dictionary to be checked\n",
    "print(\"Dictionary to be checked: \")\n",
    "print(dict1)\n",
    "print(\"\")\n",
    "# check items\n",
    "print(dict1.items())"
   ]
  },
  {
   "attachments": {},
   "cell_type": "markdown",
   "metadata": {},
   "source": [
    "### *Keys*"
   ]
  },
  {
   "cell_type": "code",
   "execution_count": 25,
   "metadata": {},
   "outputs": [
    {
     "name": "stdout",
     "output_type": "stream",
     "text": [
      "dict_keys(['Name', 'Age', 'Class', 'Height'])\n"
     ]
    }
   ],
   "source": [
    "# dict.keys()\n",
    "print(dict1.keys())"
   ]
  },
  {
   "attachments": {},
   "cell_type": "markdown",
   "metadata": {},
   "source": [
    "### *Values*"
   ]
  },
  {
   "cell_type": "code",
   "execution_count": 26,
   "metadata": {},
   "outputs": [
    {
     "name": "stdout",
     "output_type": "stream",
     "text": [
      "dict_values(['John', 34, 'Physics', None])\n"
     ]
    }
   ],
   "source": [
    "# dict.values()\n",
    "print(dict1.values())"
   ]
  },
  {
   "attachments": {},
   "cell_type": "markdown",
   "metadata": {},
   "source": [
    "### *Update*"
   ]
  },
  {
   "cell_type": "code",
   "execution_count": 27,
   "metadata": {},
   "outputs": [
    {
     "name": "stdout",
     "output_type": "stream",
     "text": [
      "{'Name': 'John', 'Age': 34, 'Class': 'Physics'}\n"
     ]
    }
   ],
   "source": [
    "dict3 = {'Education' : 'Bachelor Degree'}\n",
    "print(dict2)"
   ]
  },
  {
   "cell_type": "code",
   "execution_count": 28,
   "metadata": {},
   "outputs": [
    {
     "name": "stdout",
     "output_type": "stream",
     "text": [
      "{'Name': 'John', 'Age': 34, 'Class': 'Physics', 'Education': 'Bachelor Degree'}\n"
     ]
    }
   ],
   "source": [
    "# update dict2 with keys from dict3\n",
    "dict2.update(dict3)\n",
    "print(dict2)"
   ]
  }
 ],
 "metadata": {
  "kernelspec": {
   "display_name": "Python 3",
   "language": "python",
   "name": "python3"
  },
  "language_info": {
   "codemirror_mode": {
    "name": "ipython",
    "version": 3
   },
   "file_extension": ".py",
   "mimetype": "text/x-python",
   "name": "python",
   "nbconvert_exporter": "python",
   "pygments_lexer": "ipython3",
   "version": "3.10.5"
  },
  "orig_nbformat": 4,
  "vscode": {
   "interpreter": {
    "hash": "213524bb45a1aeaf737b1d8c77d7b8db5d425938d9dffc5f4bc6fe6dd3324700"
   }
  }
 },
 "nbformat": 4,
 "nbformat_minor": 2
}
